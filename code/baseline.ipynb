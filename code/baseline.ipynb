{
 "cells": [
  {
   "cell_type": "markdown",
   "metadata": {},
   "source": [
    "## **Import Modules and Packages**"
   ]
  },
  {
   "cell_type": "code",
   "execution_count": 28,
   "metadata": {},
   "outputs": [
    {
     "name": "stdout",
     "output_type": "stream",
     "text": [
      "Pytorch version: 1.10.0+cu102\n",
      "GPU: True\n",
      "Device name:  Tesla V100-PCIE-32GB\n",
      "Device count:  1\n"
     ]
    }
   ],
   "source": [
    "import warnings\n",
    "\n",
    "warnings.filterwarnings(\"ignore\")\n",
    "\n",
    "import os\n",
    "import random\n",
    "import gc\n",
    "import easydict\n",
    "import glob\n",
    "import multiprocessing\n",
    "import copy\n",
    "\n",
    "import torch\n",
    "import torch.nn as nn\n",
    "import torch.nn.functional as F\n",
    "from torch.utils.data import Dataset, DataLoader\n",
    "import cv2\n",
    "\n",
    "import numpy as np\n",
    "import pandas as pd\n",
    "from tqdm import tqdm\n",
    "\n",
    "# Transform을 위한 라이브러리\n",
    "import albumentations as A\n",
    "from albumentations.pytorch import ToTensorV2\n",
    "\n",
    "# Model을 위한 라이브러리\n",
    "import timm\n",
    "\n",
    "# Fold를 위한 라이브러리\n",
    "from sklearn.model_selection import GroupKFold, KFold, StratifiedKFold\n",
    "\n",
    "# loss, optimizer, scheduler 를 위한 라이브러리\n",
    "from pytorch_toolbelt import losses\n",
    "from torch.optim.lr_scheduler import CosineAnnealingWarmRestarts\n",
    "from torch.cuda.amp import autocast, GradScaler\n",
    "from madgrad import MADGRAD\n",
    "\n",
    "# Weight & bias\n",
    "import wandb\n",
    "\n",
    "# 이미지 시각화를 위한 라이브러리\n",
    "from PIL import Image\n",
    "import webcolors\n",
    "import matplotlib.pyplot as plt\n",
    "from matplotlib.patches import Patch\n",
    "import seaborn as sns\n",
    "\n",
    "sns.set()\n",
    "\n",
    "%matplotlib inline\n",
    "\n",
    "plt.rcParams[\"axes.grid\"] = False\n",
    "\n",
    "print(\"Pytorch version: {}\".format(torch.__version__))\n",
    "print(\"GPU: {}\".format(torch.cuda.is_available()))\n",
    "\n",
    "print(\"Device name: \", torch.cuda.get_device_name(0))\n",
    "print(\"Device count: \", torch.cuda.device_count())\n",
    "\n",
    "# GPU 사용 가능 여부에 따라 device 정보 저장\n",
    "device = \"cuda\" if torch.cuda.is_available() else \"cpu\""
   ]
  },
  {
   "cell_type": "markdown",
   "metadata": {},
   "source": [
    "## **Set Configs**"
   ]
  },
  {
   "cell_type": "code",
   "execution_count": 29,
   "metadata": {},
   "outputs": [],
   "source": [
    "CFG = {}\n",
    "\n",
    "CFG[\"seed\"] = 21\n",
    "CFG[\"data_root\"] = \"/opt/ml/Workspace/Dev_Matching_ArtPaint_Classification/data\"\n",
    "args = easydict.EasyDict(CFG)"
   ]
  },
  {
   "cell_type": "code",
   "execution_count": 31,
   "metadata": {},
   "outputs": [],
   "source": [
    "train_path = os.path.join(CFG[\"data_root\"], \"train\")\n",
    "test_path = os.path.join(CFG[\"data_root\"], \"test\")"
   ]
  },
  {
   "cell_type": "code",
   "execution_count": 30,
   "metadata": {},
   "outputs": [],
   "source": [
    "label = {}\n",
    "\n",
    "label[\"dog\"] = 0\n",
    "label[\"elephant\"] = 1\n",
    "label[\"giraffe\"] = 2\n",
    "label[\"guitar\"] = 3\n",
    "label[\"horse\"] = 4\n",
    "label[\"house\"] = 5\n",
    "label[\"person\"] = 6\n",
    "label[\"0\"] = -1  # for test label"
   ]
  },
  {
   "cell_type": "code",
   "execution_count": 32,
   "metadata": {},
   "outputs": [],
   "source": [
    "def data_frame(data_path, data_type):\n",
    "    labels = []\n",
    "    for path in os.walk(data_path):\n",
    "        label_type = path[0].split(\"/\")[-1]\n",
    "        if label_type == \"train\" or label_type == \"test\":\n",
    "            continue\n",
    "        path_root = path[0]\n",
    "        images = path[-1]\n",
    "\n",
    "        idx = label[label_type]\n",
    "        for image in images:\n",
    "            img_path = os.path.join(path_root, image)\n",
    "            label_idx = {\"img_path\": img_path, \"label\": idx}\n",
    "            labels.append(label_idx)\n",
    "\n",
    "    data_frame = pd.DataFrame(labels)\n",
    "    data_frame = data_frame.sort_values([\"label\", \"img_path\"])\n",
    "    data_frame = data_frame.reset_index(drop=True)\n",
    "    return data_frame"
   ]
  },
  {
   "cell_type": "markdown",
   "metadata": {},
   "source": [
    "## **Utils**"
   ]
  },
  {
   "cell_type": "code",
   "execution_count": 33,
   "metadata": {},
   "outputs": [],
   "source": [
    "def seed_everything(seed):\n",
    "    random_seed = seed\n",
    "    torch.manual_seed(random_seed)\n",
    "    torch.cuda.manual_seed(random_seed)\n",
    "    torch.cuda.manual_seed_all(random_seed)\n",
    "    torch.backends.cudnn.deterministic = True\n",
    "    torch.backends.cudnn.benchmark = False\n",
    "    np.random.seed(random_seed)\n",
    "    random.seed(random_seed)\n",
    "\n",
    "\n",
    "seed_everything(CFG[\"seed\"])"
   ]
  },
  {
   "cell_type": "code",
   "execution_count": 37,
   "metadata": {},
   "outputs": [],
   "source": [
    "def collate_fn(batch):\n",
    "    return tuple(zip(*batch))"
   ]
  },
  {
   "cell_type": "markdown",
   "metadata": {},
   "source": [
    "## **Dataset & Dataloader**"
   ]
  },
  {
   "cell_type": "code",
   "execution_count": 35,
   "metadata": {},
   "outputs": [],
   "source": [
    "class ArtDataset(Dataset):\n",
    "    def __init__(self, df, mode=\"train\", transform=None):\n",
    "        super().__init__()\n",
    "        self.mode = mode\n",
    "        self.df = df.reset_index()\n",
    "        self.image_id = self.df.img_path\n",
    "        self.label = self.df.label\n",
    "        self.transform = transform\n",
    "\n",
    "    def __len__(self):\n",
    "        return len(self.df)\n",
    "\n",
    "    def __getitem__(self, index):\n",
    "        image_id = self.image_id[index]\n",
    "        label = self.label[index]\n",
    "\n",
    "        image = cv2.imread(image_id)\n",
    "        image = cv2.cvtColor(image, cv2.COLOR_BGR2RGB)\n",
    "\n",
    "        if self.mode in (\"train\", \"valid\"):\n",
    "            if self.transform:\n",
    "                image = self.transform(image=np.array(image))[\"image\"]\n",
    "\n",
    "            return torch.tensor(image, dtype=torch.float), torch.tensor(\n",
    "                label, dtype=torch.long\n",
    "            )\n",
    "\n",
    "        elif self.mode in (\"test\"):\n",
    "            if self.transform:\n",
    "                image = self.transform(image=np.array(image))[\"image\"]\n",
    "                image /= 255.0\n",
    "\n",
    "            return torch.tensor(image, dtype=torch.float), torch.tensor(\n",
    "                0, dtype=torch.long\n",
    "            )"
   ]
  },
  {
   "cell_type": "markdown",
   "metadata": {},
   "source": [
    "## **Transform**"
   ]
  },
  {
   "cell_type": "code",
   "execution_count": 34,
   "metadata": {},
   "outputs": [],
   "source": [
    "def get_augmentation(data_type):\n",
    "    if data_type == \"train\":\n",
    "        return A.Compose(\n",
    "            [\n",
    "                A.OneOf(\n",
    "                    [\n",
    "                        A.GridDistortion(p=1.0),\n",
    "                        A.RandomGridShuffle(p=1.0),\n",
    "                        A.ElasticTransform(p=1.0),\n",
    "                        A.GridDropout(),\n",
    "                    ],\n",
    "                    p=1.0,\n",
    "                ),\n",
    "                A.Resize(224, 224),\n",
    "                A.HorizontalFlip(p=0.5),\n",
    "                A.Normalize(\n",
    "                    mean=[0.5556861, 0.50740065, 0.45690217],\n",
    "                    std=[0.22876642, 0.21754766, 0.22090458],\n",
    "                    max_pixel_value=255,\n",
    "                ),\n",
    "                ToTensorV2(),\n",
    "            ],\n",
    "            p=1.0,\n",
    "        )\n",
    "    else:  # \"Valid and Test\"\n",
    "        return A.Compose(\n",
    "            [\n",
    "                A.Resize(224, 224),\n",
    "                A.Normalize(\n",
    "                    mean=[0.5556861, 0.50740065, 0.45690217],\n",
    "                    std=[0.22876642, 0.21754766, 0.22090458],\n",
    "                    max_pixel_value=255,\n",
    "                ),\n",
    "                ToTensorV2(),\n",
    "            ],\n",
    "            p=1.0,\n",
    "        )"
   ]
  },
  {
   "cell_type": "markdown",
   "metadata": {},
   "source": [
    "## **Define Dataset**"
   ]
  },
  {
   "cell_type": "code",
   "execution_count": 38,
   "metadata": {},
   "outputs": [
    {
     "data": {
      "text/html": [
       "<div>\n",
       "<style scoped>\n",
       "    .dataframe tbody tr th:only-of-type {\n",
       "        vertical-align: middle;\n",
       "    }\n",
       "\n",
       "    .dataframe tbody tr th {\n",
       "        vertical-align: top;\n",
       "    }\n",
       "\n",
       "    .dataframe thead th {\n",
       "        text-align: right;\n",
       "    }\n",
       "</style>\n",
       "<table border=\"1\" class=\"dataframe\">\n",
       "  <thead>\n",
       "    <tr style=\"text-align: right;\">\n",
       "      <th></th>\n",
       "      <th>img_path</th>\n",
       "    </tr>\n",
       "    <tr>\n",
       "      <th>label</th>\n",
       "      <th></th>\n",
       "    </tr>\n",
       "  </thead>\n",
       "  <tbody>\n",
       "    <tr>\n",
       "      <th>0</th>\n",
       "      <td>264</td>\n",
       "    </tr>\n",
       "    <tr>\n",
       "      <th>1</th>\n",
       "      <td>164</td>\n",
       "    </tr>\n",
       "    <tr>\n",
       "      <th>2</th>\n",
       "      <td>188</td>\n",
       "    </tr>\n",
       "    <tr>\n",
       "      <th>3</th>\n",
       "      <td>107</td>\n",
       "    </tr>\n",
       "    <tr>\n",
       "      <th>4</th>\n",
       "      <td>121</td>\n",
       "    </tr>\n",
       "    <tr>\n",
       "      <th>5</th>\n",
       "      <td>196</td>\n",
       "    </tr>\n",
       "    <tr>\n",
       "      <th>6</th>\n",
       "      <td>319</td>\n",
       "    </tr>\n",
       "  </tbody>\n",
       "</table>\n",
       "</div>"
      ],
      "text/plain": [
       "       img_path\n",
       "label          \n",
       "0           264\n",
       "1           164\n",
       "2           188\n",
       "3           107\n",
       "4           121\n",
       "5           196\n",
       "6           319"
      ]
     },
     "execution_count": 38,
     "metadata": {},
     "output_type": "execute_result"
    }
   ],
   "source": [
    "def fold_df(data_frame, folds=5):\n",
    "    skf = StratifiedKFold(n_splits=folds)\n",
    "\n",
    "    X = data_frame.img_path.values\n",
    "    y = data_frame.label.values\n",
    "\n",
    "    split_df = []\n",
    "    for _, (train_index, valid_index) in enumerate(skf.split(X, y)):\n",
    "        train_df = data_frame.iloc[train_index].copy().reset_index(drop=True)\n",
    "        valid_df = data_frame.iloc[valid_index].copy().reset_index(drop=True)\n",
    "\n",
    "        split_df.append((train_df, valid_df))\n",
    "    return split_df\n",
    "\n",
    "\n",
    "split_df = fold_df(train_df)\n",
    "split_df[4][0].groupby(\"label\").count()"
   ]
  },
  {
   "cell_type": "code",
   "execution_count": 39,
   "metadata": {},
   "outputs": [
    {
     "name": "stdout",
     "output_type": "stream",
     "text": [
      "                                               img_path  label\n",
      "0     /opt/ml/Workspace/Dev_Matching_ArtPaint_Classi...      0\n",
      "1     /opt/ml/Workspace/Dev_Matching_ArtPaint_Classi...      0\n",
      "2     /opt/ml/Workspace/Dev_Matching_ArtPaint_Classi...      0\n",
      "3     /opt/ml/Workspace/Dev_Matching_ArtPaint_Classi...      0\n",
      "4     /opt/ml/Workspace/Dev_Matching_ArtPaint_Classi...      0\n",
      "...                                                 ...    ...\n",
      "1353  /opt/ml/Workspace/Dev_Matching_ArtPaint_Classi...      6\n",
      "1354  /opt/ml/Workspace/Dev_Matching_ArtPaint_Classi...      6\n",
      "1355  /opt/ml/Workspace/Dev_Matching_ArtPaint_Classi...      6\n",
      "1356  /opt/ml/Workspace/Dev_Matching_ArtPaint_Classi...      6\n",
      "1357  /opt/ml/Workspace/Dev_Matching_ArtPaint_Classi...      6\n",
      "\n",
      "[1358 rows x 2 columns]\n"
     ]
    }
   ],
   "source": [
    "split_dfd = fold_df(train_df)\n",
    "for i in range(len(split_dfd)):\n",
    "    X, y = split_dfd[i]\n",
    "    print(X)\n",
    "    break"
   ]
  },
  {
   "cell_type": "markdown",
   "metadata": {},
   "source": [
    "## **Model**"
   ]
  },
  {
   "cell_type": "code",
   "execution_count": 40,
   "metadata": {},
   "outputs": [],
   "source": [
    "model = timm.create_model(\n",
    "    model_name=\"swin_base_patch4_window7_224\", pretrained=True, num_classes=7\n",
    ")"
   ]
  },
  {
   "cell_type": "code",
   "execution_count": 41,
   "metadata": {},
   "outputs": [
    {
     "name": "stdout",
     "output_type": "stream",
     "text": [
      "input : torch.Size([1, 3, 224, 224]) | output : torch.Size([1, 7])\n"
     ]
    }
   ],
   "source": [
    "x = torch.randn([1, 3, 224, 224])\n",
    "out = model(x).to(device)\n",
    "print(f\"input : {x.shape} | output : {out.size()}\")"
   ]
  },
  {
   "cell_type": "markdown",
   "metadata": {},
   "source": [
    "## **Loss & Optimizer**"
   ]
  },
  {
   "cell_type": "code",
   "execution_count": 42,
   "metadata": {},
   "outputs": [],
   "source": [
    "# criterion = nn.CrossEntropyLoss()\n",
    "criterion = losses.SoftCrossEntropyLoss()\n",
    "optimizer = MADGRAD(params=model.parameters(), lr=1e-4, weight_decay=1e-6)\n",
    "scheduler = CosineAnnealingWarmRestarts(optimizer, T_0=25, T_mult=1)"
   ]
  },
  {
   "cell_type": "markdown",
   "metadata": {},
   "source": [
    "## **Get Dataloader**"
   ]
  },
  {
   "cell_type": "code",
   "execution_count": 43,
   "metadata": {},
   "outputs": [],
   "source": [
    "def get_dataloader(train_df, valid_df, test_df):\n",
    "    train_dataset = ArtDataset(\n",
    "        train_df, mode=\"train\", transform=get_augmentation(data_type=\"train\")\n",
    "    )\n",
    "    valid_dataset = ArtDataset(\n",
    "        valid_df, mode=\"valid\", transform=get_augmentation(data_type=\"valid\")\n",
    "    )\n",
    "    test_dataset = ArtDataset(\n",
    "        test_df, mode=\"test\", transform=get_augmentation(data_type=\"test\")\n",
    "    )\n",
    "\n",
    "    train_loader = DataLoader(\n",
    "        train_dataset, batch_size=32, shuffle=True, num_workers=0, collate_fn=collate_fn\n",
    "    )\n",
    "    valid_loader = DataLoader(\n",
    "        valid_dataset,\n",
    "        batch_size=16,\n",
    "        shuffle=False,\n",
    "        num_workers=0,\n",
    "        collate_fn=collate_fn,\n",
    "    )\n",
    "    test_loader = DataLoader(\n",
    "        test_dataset, batch_size=16, shuffle=False, num_workers=0, collate_fn=collate_fn\n",
    "    )\n",
    "\n",
    "    return train_loader, valid_loader, test_loader"
   ]
  },
  {
   "cell_type": "markdown",
   "metadata": {},
   "source": [
    "## **Train/Valid One Epoch**"
   ]
  },
  {
   "cell_type": "code",
   "execution_count": 44,
   "metadata": {},
   "outputs": [],
   "source": [
    "def train_one_epoch(epoch, model, data_loader, criterion, optimizer, scheduler, device):\n",
    "    model.train()\n",
    "\n",
    "    cnt = 0\n",
    "    correct = 0\n",
    "    scaler = GradScaler()\n",
    "\n",
    "    pbar = tqdm(enumerate(data_loader), total=len(data_loader))\n",
    "    for step, (image, label) in pbar:\n",
    "\n",
    "        image = torch.stack(image).float()\n",
    "        label = torch.stack(label).long()\n",
    "\n",
    "        image = image.to(device)\n",
    "        label = label.to(device)\n",
    "\n",
    "        with autocast(enabled=True):\n",
    "            model = model.to(device)\n",
    "\n",
    "            output = model(image)\n",
    "            loss = criterion(output, label)\n",
    "\n",
    "        scaler.scale(loss).backward()\n",
    "        scaler.step(optimizer)\n",
    "        scaler.update()\n",
    "\n",
    "        optimizer.zero_grad()\n",
    "\n",
    "        _, preds = torch.max(output, 1)\n",
    "        correct += torch.sum(preds == label.data)\n",
    "        cnt += 1\n",
    "\n",
    "        description = f\"# epoch : {epoch + 1} Loss : {(loss.item()):.4f}\"\n",
    "        pbar.set_description(description)\n",
    "\n",
    "    acc = correct / cnt\n",
    "    scheduler.step()\n",
    "\n",
    "    return acc"
   ]
  },
  {
   "cell_type": "code",
   "execution_count": 45,
   "metadata": {},
   "outputs": [],
   "source": [
    "def valid_one_epoch(model, data_loader, split_df, device):\n",
    "    print(f\"Start Validation\")\n",
    "\n",
    "    model.eval()\n",
    "    correct = 0\n",
    "\n",
    "    pbar_valid = tqdm(enumerate(data_loader), total=len(data_loader))\n",
    "    for step, (image, label) in pbar_valid:\n",
    "\n",
    "        image = torch.stack(image).float()\n",
    "        label = torch.stack(label).long()\n",
    "\n",
    "        image = image.to(device)\n",
    "        label = label.to(device)\n",
    "        model = model.to(device)\n",
    "\n",
    "        output = model(image)\n",
    "\n",
    "        _, preds = torch.max(output, 1)\n",
    "        correct += torch.sum(preds == label.data)\n",
    "\n",
    "        description_valid = f\" correct : {(correct.item()/len(split_df)):.4f}\"\n",
    "        pbar_valid.set_description(description_valid)\n",
    "    acc = correct / len(split_df)\n",
    "    print(f\"Validation acc: {acc: .4f}\")\n",
    "\n",
    "    return acc, output"
   ]
  },
  {
   "cell_type": "markdown",
   "metadata": {},
   "source": [
    "## **Pseudo_labeling**"
   ]
  },
  {
   "cell_type": "code",
   "execution_count": 46,
   "metadata": {},
   "outputs": [],
   "source": [
    "def pseudo_labeling(model, train_dataset, test_loader):\n",
    "    print(f\"Start Pseudo\")\n",
    "    pseudo_dataset = copy.deepcopy(test_df)\n",
    "\n",
    "    model.eval()\n",
    "    pseudo = []\n",
    "    for step, (image, label) in tqdm(enumerate(test_loader), total=len(test_loader)):\n",
    "        image = torch.stack(image).float()\n",
    "        label = torch.stack(label).long()\n",
    "\n",
    "        image = image.to(device)\n",
    "        label = label.to(device)\n",
    "\n",
    "        output = model(image).to(device)\n",
    "\n",
    "        _, preds = torch.max(output, 1)\n",
    "        pseudo.extend(list(preds.cpu().numpy()))\n",
    "\n",
    "    pseudo_dataset.label = pseudo\n",
    "    pseudo_dataset = pd.concat([train_dataset, pseudo_dataset]).reset_index(drop=True)\n",
    "\n",
    "    return pseudo_dataset"
   ]
  },
  {
   "cell_type": "code",
   "execution_count": 47,
   "metadata": {},
   "outputs": [],
   "source": [
    "train_data = split_df[4][0]\n",
    "valid_data = split_df[4][1]"
   ]
  },
  {
   "cell_type": "code",
   "execution_count": 58,
   "metadata": {},
   "outputs": [],
   "source": [
    "iter_n = 3"
   ]
  },
  {
   "cell_type": "markdown",
   "metadata": {},
   "source": [
    "## **Run !!**"
   ]
  },
  {
   "cell_type": "code",
   "execution_count": 59,
   "metadata": {},
   "outputs": [],
   "source": [
    "def run(\n",
    "    epoch, model, train_df, test_df, optimizer, criterion, scheduler, device, Folds=5\n",
    "):\n",
    "    torch.cuda.empty_cache()\n",
    "    gc.collect()\n",
    "    for _ in range(iter_n):\n",
    "        for fold in range(Folds):\n",
    "\n",
    "            print(f\"{fold+1} fold start\")\n",
    "            split_df = fold_df(train_df, folds=5)\n",
    "            train_loader, valid_loader, test_loader = get_dataloader(\n",
    "                split_df[fold][0], split_df[fold][1], test_df\n",
    "            )\n",
    "\n",
    "            early_stopping_cnt = 0\n",
    "            patience = 5\n",
    "            best_acc = 0\n",
    "\n",
    "            num_epochs = epoch\n",
    "            for epoch in range(num_epochs):\n",
    "                train_acc = train_one_epoch(\n",
    "                    epoch, model, train_loader, criterion, optimizer, scheduler, device\n",
    "                )\n",
    "                with torch.no_grad():\n",
    "                    valid_acc, outputs = valid_one_epoch(\n",
    "                        model, valid_loader, split_df[fold][1], device\n",
    "                    )\n",
    "\n",
    "                if valid_acc > best_acc:\n",
    "                    best_acc = valid_acc\n",
    "                    early_stopping_cnt = 0\n",
    "                    print(f\"Best acc is {best_acc}\")\n",
    "                else:\n",
    "                    early_stopping_cnt += 1\n",
    "                    print(f\"Early Stopping Counter is {early_stopping_cnt}\")\n",
    "                    if early_stopping_cnt >= patience:\n",
    "                        print(\n",
    "                            f\"Early Stopping Counter: {early_stopping_cnt} out of {patience}\"\n",
    "                        )\n",
    "                        break\n",
    "\n",
    "        scheduler.step(best_acc)\n",
    "        train_df = pseudo_labeling(model, train_df, test_loader)\n",
    "        train_loader, _, _ = get_dataloader(train_df, train_df, test_df)"
   ]
  },
  {
   "cell_type": "code",
   "execution_count": 54,
   "metadata": {},
   "outputs": [
    {
     "data": {
      "text/plain": [
       "'/opt/ml/Workspace/Dev_Matching_ArtPaint_Classification/data/train/dog/pic_001.jpg'"
      ]
     },
     "execution_count": 54,
     "metadata": {},
     "output_type": "execute_result"
    }
   ],
   "source": [
    "train_df.img_path[0]"
   ]
  },
  {
   "cell_type": "code",
   "execution_count": 60,
   "metadata": {},
   "outputs": [
    {
     "name": "stdout",
     "output_type": "stream",
     "text": [
      "1 fold start\n"
     ]
    },
    {
     "name": "stderr",
     "output_type": "stream",
     "text": [
      "# epoch : 1 Loss : 0.0034: 100%|██████████| 43/43 [00:37<00:00,  1.15it/s]\n"
     ]
    },
    {
     "name": "stdout",
     "output_type": "stream",
     "text": [
      "Start Validation\n"
     ]
    },
    {
     "name": "stderr",
     "output_type": "stream",
     "text": [
      " correct : 0.9941: 100%|██████████| 22/22 [00:02<00:00,  7.93it/s]\n"
     ]
    },
    {
     "name": "stdout",
     "output_type": "stream",
     "text": [
      "Validation acc:  0.9941\n",
      "Best acc is 0.9941176772117615\n"
     ]
    },
    {
     "name": "stderr",
     "output_type": "stream",
     "text": [
      "# epoch : 2 Loss : 0.0036: 100%|██████████| 43/43 [00:37<00:00,  1.15it/s]\n"
     ]
    },
    {
     "name": "stdout",
     "output_type": "stream",
     "text": [
      "Start Validation\n"
     ]
    },
    {
     "name": "stderr",
     "output_type": "stream",
     "text": [
      " correct : 0.9971: 100%|██████████| 22/22 [00:02<00:00,  8.12it/s]\n"
     ]
    },
    {
     "name": "stdout",
     "output_type": "stream",
     "text": [
      "Validation acc:  0.9971\n",
      "Best acc is 0.9970588684082031\n"
     ]
    },
    {
     "name": "stderr",
     "output_type": "stream",
     "text": [
      "# epoch : 3 Loss : 0.0048: 100%|██████████| 43/43 [00:36<00:00,  1.19it/s]\n"
     ]
    },
    {
     "name": "stdout",
     "output_type": "stream",
     "text": [
      "Start Validation\n"
     ]
    },
    {
     "name": "stderr",
     "output_type": "stream",
     "text": [
      " correct : 0.9971: 100%|██████████| 22/22 [00:02<00:00,  7.64it/s]\n"
     ]
    },
    {
     "name": "stdout",
     "output_type": "stream",
     "text": [
      "Validation acc:  0.9971\n",
      "Early Stopping Counter is 1\n"
     ]
    },
    {
     "name": "stderr",
     "output_type": "stream",
     "text": [
      "# epoch : 4 Loss : 0.0464: 100%|██████████| 43/43 [00:38<00:00,  1.13it/s]\n"
     ]
    },
    {
     "name": "stdout",
     "output_type": "stream",
     "text": [
      "Start Validation\n"
     ]
    },
    {
     "name": "stderr",
     "output_type": "stream",
     "text": [
      " correct : 0.9971: 100%|██████████| 22/22 [00:02<00:00,  7.69it/s]\n"
     ]
    },
    {
     "name": "stdout",
     "output_type": "stream",
     "text": [
      "Validation acc:  0.9971\n",
      "Early Stopping Counter is 2\n"
     ]
    },
    {
     "name": "stderr",
     "output_type": "stream",
     "text": [
      "# epoch : 5 Loss : 0.2137: 100%|██████████| 43/43 [00:37<00:00,  1.16it/s]\n"
     ]
    },
    {
     "name": "stdout",
     "output_type": "stream",
     "text": [
      "Start Validation\n"
     ]
    },
    {
     "name": "stderr",
     "output_type": "stream",
     "text": [
      " correct : 0.9912: 100%|██████████| 22/22 [00:02<00:00,  7.50it/s]\n"
     ]
    },
    {
     "name": "stdout",
     "output_type": "stream",
     "text": [
      "Validation acc:  0.9912\n",
      "Early Stopping Counter is 3\n"
     ]
    },
    {
     "name": "stderr",
     "output_type": "stream",
     "text": [
      "# epoch : 6 Loss : 0.0402: 100%|██████████| 43/43 [00:36<00:00,  1.18it/s]\n"
     ]
    },
    {
     "name": "stdout",
     "output_type": "stream",
     "text": [
      "Start Validation\n"
     ]
    },
    {
     "name": "stderr",
     "output_type": "stream",
     "text": [
      " correct : 0.9735: 100%|██████████| 22/22 [00:02<00:00,  8.06it/s]\n"
     ]
    },
    {
     "name": "stdout",
     "output_type": "stream",
     "text": [
      "Validation acc:  0.9735\n",
      "Early Stopping Counter is 4\n"
     ]
    },
    {
     "name": "stderr",
     "output_type": "stream",
     "text": [
      "# epoch : 7 Loss : 0.0236: 100%|██████████| 43/43 [00:37<00:00,  1.14it/s]\n"
     ]
    },
    {
     "name": "stdout",
     "output_type": "stream",
     "text": [
      "Start Validation\n"
     ]
    },
    {
     "name": "stderr",
     "output_type": "stream",
     "text": [
      " correct : 0.9941: 100%|██████████| 22/22 [00:02<00:00,  8.20it/s]\n"
     ]
    },
    {
     "name": "stdout",
     "output_type": "stream",
     "text": [
      "Validation acc:  0.9941\n",
      "Early Stopping Counter is 5\n",
      "Early Stopping Counter: 5 out of 5\n",
      "2 fold start\n"
     ]
    },
    {
     "name": "stderr",
     "output_type": "stream",
     "text": [
      "# epoch : 1 Loss : 0.2373: 100%|██████████| 43/43 [00:37<00:00,  1.14it/s]\n"
     ]
    },
    {
     "name": "stdout",
     "output_type": "stream",
     "text": [
      "Start Validation\n"
     ]
    },
    {
     "name": "stderr",
     "output_type": "stream",
     "text": [
      " correct : 0.9941: 100%|██████████| 22/22 [00:02<00:00,  8.12it/s]\n"
     ]
    },
    {
     "name": "stdout",
     "output_type": "stream",
     "text": [
      "Validation acc:  0.9941\n",
      "Best acc is 0.9941176772117615\n"
     ]
    },
    {
     "name": "stderr",
     "output_type": "stream",
     "text": [
      "# epoch : 2 Loss : 0.0042: 100%|██████████| 43/43 [00:34<00:00,  1.23it/s]\n"
     ]
    },
    {
     "name": "stdout",
     "output_type": "stream",
     "text": [
      "Start Validation\n"
     ]
    },
    {
     "name": "stderr",
     "output_type": "stream",
     "text": [
      " correct : 0.9941: 100%|██████████| 22/22 [00:02<00:00,  7.66it/s]\n"
     ]
    },
    {
     "name": "stdout",
     "output_type": "stream",
     "text": [
      "Validation acc:  0.9941\n",
      "Early Stopping Counter is 1\n"
     ]
    },
    {
     "name": "stderr",
     "output_type": "stream",
     "text": [
      "# epoch : 3 Loss : 0.0654: 100%|██████████| 43/43 [00:37<00:00,  1.15it/s]\n"
     ]
    },
    {
     "name": "stdout",
     "output_type": "stream",
     "text": [
      "Start Validation\n"
     ]
    },
    {
     "name": "stderr",
     "output_type": "stream",
     "text": [
      " correct : 1.0000: 100%|██████████| 22/22 [00:02<00:00,  7.77it/s]\n"
     ]
    },
    {
     "name": "stdout",
     "output_type": "stream",
     "text": [
      "Validation acc:  1.0000\n",
      "Best acc is 1.0\n"
     ]
    },
    {
     "name": "stderr",
     "output_type": "stream",
     "text": [
      "# epoch : 4 Loss : 0.0012: 100%|██████████| 43/43 [00:36<00:00,  1.18it/s]\n"
     ]
    },
    {
     "name": "stdout",
     "output_type": "stream",
     "text": [
      "Start Validation\n"
     ]
    },
    {
     "name": "stderr",
     "output_type": "stream",
     "text": [
      " correct : 1.0000: 100%|██████████| 22/22 [00:02<00:00,  8.14it/s]\n"
     ]
    },
    {
     "name": "stdout",
     "output_type": "stream",
     "text": [
      "Validation acc:  1.0000\n",
      "Early Stopping Counter is 1\n"
     ]
    },
    {
     "name": "stderr",
     "output_type": "stream",
     "text": [
      "# epoch : 5 Loss : 0.0013: 100%|██████████| 43/43 [00:35<00:00,  1.20it/s]\n"
     ]
    },
    {
     "name": "stdout",
     "output_type": "stream",
     "text": [
      "Start Validation\n"
     ]
    },
    {
     "name": "stderr",
     "output_type": "stream",
     "text": [
      " correct : 1.0000: 100%|██████████| 22/22 [00:02<00:00,  7.77it/s]\n"
     ]
    },
    {
     "name": "stdout",
     "output_type": "stream",
     "text": [
      "Validation acc:  1.0000\n",
      "Early Stopping Counter is 2\n"
     ]
    },
    {
     "name": "stderr",
     "output_type": "stream",
     "text": [
      "# epoch : 6 Loss : 0.0005: 100%|██████████| 43/43 [00:37<00:00,  1.15it/s]\n"
     ]
    },
    {
     "name": "stdout",
     "output_type": "stream",
     "text": [
      "Start Validation\n"
     ]
    },
    {
     "name": "stderr",
     "output_type": "stream",
     "text": [
      " correct : 1.0000: 100%|██████████| 22/22 [00:02<00:00,  8.09it/s]\n"
     ]
    },
    {
     "name": "stdout",
     "output_type": "stream",
     "text": [
      "Validation acc:  1.0000\n",
      "Early Stopping Counter is 3\n",
      "3 fold start\n"
     ]
    },
    {
     "name": "stderr",
     "output_type": "stream",
     "text": [
      "# epoch : 1 Loss : 0.0020: 100%|██████████| 43/43 [00:37<00:00,  1.16it/s]\n"
     ]
    },
    {
     "name": "stdout",
     "output_type": "stream",
     "text": [
      "Start Validation\n"
     ]
    },
    {
     "name": "stderr",
     "output_type": "stream",
     "text": [
      " correct : 1.0000: 100%|██████████| 22/22 [00:02<00:00,  7.92it/s]\n"
     ]
    },
    {
     "name": "stdout",
     "output_type": "stream",
     "text": [
      "Validation acc:  1.0000\n",
      "Best acc is 1.0\n"
     ]
    },
    {
     "name": "stderr",
     "output_type": "stream",
     "text": [
      "# epoch : 2 Loss : 0.0002: 100%|██████████| 43/43 [00:38<00:00,  1.12it/s]\n"
     ]
    },
    {
     "name": "stdout",
     "output_type": "stream",
     "text": [
      "Start Validation\n"
     ]
    },
    {
     "name": "stderr",
     "output_type": "stream",
     "text": [
      " correct : 0.9971: 100%|██████████| 22/22 [00:02<00:00,  7.81it/s]\n"
     ]
    },
    {
     "name": "stdout",
     "output_type": "stream",
     "text": [
      "Validation acc:  0.9971\n",
      "Early Stopping Counter is 1\n"
     ]
    },
    {
     "name": "stderr",
     "output_type": "stream",
     "text": [
      "# epoch : 3 Loss : 0.0002: 100%|██████████| 43/43 [00:34<00:00,  1.26it/s]\n"
     ]
    },
    {
     "name": "stdout",
     "output_type": "stream",
     "text": [
      "Start Validation\n"
     ]
    },
    {
     "name": "stderr",
     "output_type": "stream",
     "text": [
      " correct : 1.0000: 100%|██████████| 22/22 [00:02<00:00,  7.99it/s]\n"
     ]
    },
    {
     "name": "stdout",
     "output_type": "stream",
     "text": [
      "Validation acc:  1.0000\n",
      "Early Stopping Counter is 2\n"
     ]
    },
    {
     "name": "stderr",
     "output_type": "stream",
     "text": [
      "# epoch : 4 Loss : 0.0012: 100%|██████████| 43/43 [00:37<00:00,  1.15it/s]\n"
     ]
    },
    {
     "name": "stdout",
     "output_type": "stream",
     "text": [
      "Start Validation\n"
     ]
    },
    {
     "name": "stderr",
     "output_type": "stream",
     "text": [
      " correct : 1.0000: 100%|██████████| 22/22 [00:02<00:00,  8.05it/s]\n"
     ]
    },
    {
     "name": "stdout",
     "output_type": "stream",
     "text": [
      "Validation acc:  1.0000\n",
      "Early Stopping Counter is 3\n"
     ]
    },
    {
     "name": "stderr",
     "output_type": "stream",
     "text": [
      "# epoch : 5 Loss : 0.0002: 100%|██████████| 43/43 [00:36<00:00,  1.16it/s]\n"
     ]
    },
    {
     "name": "stdout",
     "output_type": "stream",
     "text": [
      "Start Validation\n"
     ]
    },
    {
     "name": "stderr",
     "output_type": "stream",
     "text": [
      " correct : 1.0000: 100%|██████████| 22/22 [00:02<00:00,  8.30it/s]\n"
     ]
    },
    {
     "name": "stdout",
     "output_type": "stream",
     "text": [
      "Validation acc:  1.0000\n",
      "Early Stopping Counter is 4\n",
      "4 fold start\n"
     ]
    },
    {
     "name": "stderr",
     "output_type": "stream",
     "text": [
      "# epoch : 1 Loss : 0.0002: 100%|██████████| 43/43 [00:36<00:00,  1.18it/s]\n"
     ]
    },
    {
     "name": "stdout",
     "output_type": "stream",
     "text": [
      "Start Validation\n"
     ]
    },
    {
     "name": "stderr",
     "output_type": "stream",
     "text": [
      " correct : 1.0000: 100%|██████████| 22/22 [00:02<00:00,  8.46it/s]\n"
     ]
    },
    {
     "name": "stdout",
     "output_type": "stream",
     "text": [
      "Validation acc:  1.0000\n",
      "Best acc is 1.0\n"
     ]
    },
    {
     "name": "stderr",
     "output_type": "stream",
     "text": [
      "# epoch : 2 Loss : 0.0002: 100%|██████████| 43/43 [00:37<00:00,  1.16it/s]\n"
     ]
    },
    {
     "name": "stdout",
     "output_type": "stream",
     "text": [
      "Start Validation\n"
     ]
    },
    {
     "name": "stderr",
     "output_type": "stream",
     "text": [
      " correct : 1.0000: 100%|██████████| 22/22 [00:02<00:00,  7.99it/s]\n"
     ]
    },
    {
     "name": "stdout",
     "output_type": "stream",
     "text": [
      "Validation acc:  1.0000\n",
      "Early Stopping Counter is 1\n"
     ]
    },
    {
     "name": "stderr",
     "output_type": "stream",
     "text": [
      "# epoch : 3 Loss : 0.0001: 100%|██████████| 43/43 [00:36<00:00,  1.19it/s]\n"
     ]
    },
    {
     "name": "stdout",
     "output_type": "stream",
     "text": [
      "Start Validation\n"
     ]
    },
    {
     "name": "stderr",
     "output_type": "stream",
     "text": [
      " correct : 1.0000: 100%|██████████| 22/22 [00:02<00:00,  8.02it/s]\n"
     ]
    },
    {
     "name": "stdout",
     "output_type": "stream",
     "text": [
      "Validation acc:  1.0000\n",
      "Early Stopping Counter is 2\n"
     ]
    },
    {
     "name": "stderr",
     "output_type": "stream",
     "text": [
      "# epoch : 4 Loss : 0.0001: 100%|██████████| 43/43 [00:36<00:00,  1.18it/s]\n"
     ]
    },
    {
     "name": "stdout",
     "output_type": "stream",
     "text": [
      "Start Validation\n"
     ]
    },
    {
     "name": "stderr",
     "output_type": "stream",
     "text": [
      " correct : 1.0000: 100%|██████████| 22/22 [00:02<00:00,  8.23it/s]\n"
     ]
    },
    {
     "name": "stdout",
     "output_type": "stream",
     "text": [
      "Validation acc:  1.0000\n",
      "Early Stopping Counter is 3\n",
      "5 fold start\n"
     ]
    },
    {
     "name": "stderr",
     "output_type": "stream",
     "text": [
      "# epoch : 1 Loss : 0.0002: 100%|██████████| 43/43 [00:36<00:00,  1.17it/s]\n"
     ]
    },
    {
     "name": "stdout",
     "output_type": "stream",
     "text": [
      "Start Validation\n"
     ]
    },
    {
     "name": "stderr",
     "output_type": "stream",
     "text": [
      " correct : 1.0000: 100%|██████████| 22/22 [00:02<00:00,  7.93it/s]\n"
     ]
    },
    {
     "name": "stdout",
     "output_type": "stream",
     "text": [
      "Validation acc:  1.0000\n",
      "Best acc is 1.0\n"
     ]
    },
    {
     "name": "stderr",
     "output_type": "stream",
     "text": [
      "# epoch : 2 Loss : 0.0003: 100%|██████████| 43/43 [00:36<00:00,  1.19it/s]\n"
     ]
    },
    {
     "name": "stdout",
     "output_type": "stream",
     "text": [
      "Start Validation\n"
     ]
    },
    {
     "name": "stderr",
     "output_type": "stream",
     "text": [
      " correct : 1.0000: 100%|██████████| 22/22 [00:02<00:00,  8.21it/s]\n"
     ]
    },
    {
     "name": "stdout",
     "output_type": "stream",
     "text": [
      "Validation acc:  1.0000\n",
      "Early Stopping Counter is 1\n"
     ]
    },
    {
     "name": "stderr",
     "output_type": "stream",
     "text": [
      "# epoch : 3 Loss : 0.0018: 100%|██████████| 43/43 [00:36<00:00,  1.19it/s]\n"
     ]
    },
    {
     "name": "stdout",
     "output_type": "stream",
     "text": [
      "Start Validation\n"
     ]
    },
    {
     "name": "stderr",
     "output_type": "stream",
     "text": [
      " correct : 1.0000: 100%|██████████| 22/22 [00:02<00:00,  8.21it/s]\n"
     ]
    },
    {
     "name": "stdout",
     "output_type": "stream",
     "text": [
      "Validation acc:  1.0000\n",
      "Early Stopping Counter is 2\n",
      "Start Pseudo\n"
     ]
    },
    {
     "name": "stderr",
     "output_type": "stream",
     "text": [
      "100%|██████████| 22/22 [00:02<00:00,  8.25it/s]\n"
     ]
    },
    {
     "name": "stdout",
     "output_type": "stream",
     "text": [
      "1 fold start\n"
     ]
    },
    {
     "name": "stderr",
     "output_type": "stream",
     "text": [
      "# epoch : 1 Loss : 0.3672: 100%|██████████| 52/52 [00:43<00:00,  1.20it/s]\n"
     ]
    },
    {
     "name": "stdout",
     "output_type": "stream",
     "text": [
      "Start Validation\n"
     ]
    },
    {
     "name": "stderr",
     "output_type": "stream",
     "text": [
      " correct : 0.9829: 100%|██████████| 26/26 [00:03<00:00,  7.98it/s]\n"
     ]
    },
    {
     "name": "stdout",
     "output_type": "stream",
     "text": [
      "Validation acc:  0.9829\n",
      "Best acc is 0.9829268455505371\n"
     ]
    },
    {
     "name": "stderr",
     "output_type": "stream",
     "text": [
      "# epoch : 2 Loss : 0.2379: 100%|██████████| 52/52 [00:44<00:00,  1.16it/s]\n"
     ]
    },
    {
     "name": "stdout",
     "output_type": "stream",
     "text": [
      "Start Validation\n"
     ]
    },
    {
     "name": "stderr",
     "output_type": "stream",
     "text": [
      " correct : 0.9805: 100%|██████████| 26/26 [00:03<00:00,  8.29it/s]\n"
     ]
    },
    {
     "name": "stdout",
     "output_type": "stream",
     "text": [
      "Validation acc:  0.9805\n",
      "Early Stopping Counter is 1\n",
      "2 fold start\n"
     ]
    },
    {
     "name": "stderr",
     "output_type": "stream",
     "text": [
      "# epoch : 1 Loss : 0.0884: 100%|██████████| 52/52 [00:45<00:00,  1.15it/s]\n"
     ]
    },
    {
     "name": "stdout",
     "output_type": "stream",
     "text": [
      "Start Validation\n"
     ]
    },
    {
     "name": "stderr",
     "output_type": "stream",
     "text": [
      " correct : 0.9073: 100%|██████████| 26/26 [00:03<00:00,  7.93it/s]\n"
     ]
    },
    {
     "name": "stdout",
     "output_type": "stream",
     "text": [
      "Validation acc:  0.9073\n",
      "Best acc is 0.9073171019554138\n",
      "3 fold start\n",
      "4 fold start\n",
      "5 fold start\n",
      "Start Pseudo\n"
     ]
    },
    {
     "name": "stderr",
     "output_type": "stream",
     "text": [
      "100%|██████████| 22/22 [00:02<00:00,  8.43it/s]\n"
     ]
    },
    {
     "name": "stdout",
     "output_type": "stream",
     "text": [
      "1 fold start\n",
      "2 fold start\n",
      "3 fold start\n",
      "4 fold start\n",
      "5 fold start\n",
      "Start Pseudo\n"
     ]
    },
    {
     "name": "stderr",
     "output_type": "stream",
     "text": [
      "100%|██████████| 22/22 [00:02<00:00,  8.57it/s]\n"
     ]
    }
   ],
   "source": [
    "run(\n",
    "    epoch=20,\n",
    "    model=model,\n",
    "    train_df=train_df,\n",
    "    test_df=test_df,\n",
    "    optimizer=optimizer,\n",
    "    criterion=criterion,\n",
    "    scheduler=scheduler,\n",
    "    device=device,\n",
    "    Folds=5,\n",
    ")"
   ]
  }
 ],
 "metadata": {
  "interpreter": {
   "hash": "e31c68abf1d5dd3f9e2269f23eadf1b199587e56c0618a30760176a65ebfcab4"
  },
  "kernelspec": {
   "display_name": "Python 3.7.11 64-bit ('lightweight': conda)",
   "language": "python",
   "name": "python3"
  },
  "language_info": {
   "codemirror_mode": {
    "name": "ipython",
    "version": 3
   },
   "file_extension": ".py",
   "mimetype": "text/x-python",
   "name": "python",
   "nbconvert_exporter": "python",
   "pygments_lexer": "ipython3",
   "version": "3.7.11"
  },
  "orig_nbformat": 4
 },
 "nbformat": 4,
 "nbformat_minor": 2
}
