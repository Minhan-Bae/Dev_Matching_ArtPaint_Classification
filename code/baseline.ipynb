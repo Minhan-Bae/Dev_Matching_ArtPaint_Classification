{
 "cells": [
  {
   "cell_type": "markdown",
   "metadata": {},
   "source": [
    "## **Import Modules and Packages**"
   ]
  },
  {
   "cell_type": "code",
   "execution_count": 1,
   "metadata": {},
   "outputs": [
    {
     "name": "stdout",
     "output_type": "stream",
     "text": [
      "Pytorch version: 1.10.0+cu102\n",
      "GPU: True\n",
      "Device name:  Tesla V100-PCIE-32GB\n",
      "Device count:  1\n"
     ]
    }
   ],
   "source": [
    "import warnings\n",
    "\n",
    "warnings.filterwarnings(\"ignore\")\n",
    "\n",
    "import os\n",
    "import random\n",
    "import gc\n",
    "import easydict\n",
    "import glob\n",
    "import multiprocessing\n",
    "import copy\n",
    "\n",
    "import torch\n",
    "import torch.nn as nn\n",
    "import torch.nn.functional as F\n",
    "from torch.utils.data import Dataset, DataLoader\n",
    "import cv2\n",
    "\n",
    "import numpy as np\n",
    "import pandas as pd\n",
    "from tqdm import tqdm\n",
    "\n",
    "# Transform을 위한 라이브러리\n",
    "import albumentations as A\n",
    "from albumentations.pytorch import ToTensorV2\n",
    "\n",
    "# Model을 위한 라이브러리\n",
    "import timm\n",
    "\n",
    "# Fold를 위한 라이브러리\n",
    "from sklearn.model_selection import GroupKFold, KFold, StratifiedKFold\n",
    "\n",
    "# loss, optimizer, scheduler 를 위한 라이브러리\n",
    "from pytorch_toolbelt import losses\n",
    "from torch.optim.lr_scheduler import CosineAnnealingWarmRestarts\n",
    "from torch.cuda.amp import autocast, GradScaler\n",
    "from madgrad import MADGRAD\n",
    "\n",
    "# Weight & bias\n",
    "import wandb\n",
    "\n",
    "# 이미지 시각화를 위한 라이브러리\n",
    "from PIL import Image\n",
    "import webcolors\n",
    "import matplotlib.pyplot as plt\n",
    "from matplotlib.patches import Patch\n",
    "import seaborn as sns\n",
    "\n",
    "sns.set()\n",
    "\n",
    "%matplotlib inline\n",
    "\n",
    "plt.rcParams[\"axes.grid\"] = False\n",
    "\n",
    "print(\"Pytorch version: {}\".format(torch.__version__))\n",
    "print(\"GPU: {}\".format(torch.cuda.is_available()))\n",
    "\n",
    "print(\"Device name: \", torch.cuda.get_device_name(0))\n",
    "print(\"Device count: \", torch.cuda.device_count())\n",
    "\n",
    "# GPU 사용 가능 여부에 따라 device 정보 저장\n",
    "device = \"cuda\" if torch.cuda.is_available() else \"cpu\""
   ]
  },
  {
   "cell_type": "markdown",
   "metadata": {},
   "source": [
    "## **Set Configs**"
   ]
  },
  {
   "cell_type": "code",
   "execution_count": 2,
   "metadata": {},
   "outputs": [],
   "source": [
    "CFG = {}\n",
    "\n",
    "CFG['experiment_number'] = \"Dec11\"\n",
    "\n",
    "CFG[\"seed\"] = 21\n",
    "CFG[\"data_root\"] = \"/opt/ml/Workspace/Dev_Matching_ArtPaint_Classification\"\n",
    "CFG[\"saved_dir\"] = os.path.join(CFG[\"data_root\"],\"saved\")\n",
    "CFG[\"lr\"] = 1e-4\n",
    "CFG[\"weight_decay\"] = 1e-6\n",
    "\n",
    "CFG[\"mean\"] = [0.5556861, 0.50740065, 0.45690217]\n",
    "CFG[\"std\"] = [0.22876642, 0.21754766, 0.22090458]\n",
    "\n",
    "CFG[\"timm_model\"] = \"swin_base_patch4_window7_224\"\n",
    "# CFG[\"timm_model\"] = \"vit_base_patch16_224\"\n",
    "\n",
    "CFG[\"n_epoch\"] = 20\n",
    "CFG[\"n_Folds\"] = 5\n",
    "CFG[\"n_iter\"] = 3\n",
    "CFG[\"patience\"] = 3\n",
    "args = easydict.EasyDict(CFG)"
   ]
  },
  {
   "cell_type": "code",
   "execution_count": 3,
   "metadata": {},
   "outputs": [],
   "source": [
    "train_path = os.path.join(CFG[\"data_root\"], \"data/train\")\n",
    "test_path = os.path.join(CFG[\"data_root\"], \"data/test\")"
   ]
  },
  {
   "cell_type": "code",
   "execution_count": 4,
   "metadata": {},
   "outputs": [],
   "source": [
    "label = {}\n",
    "\n",
    "label[\"dog\"] = 0\n",
    "label[\"elephant\"] = 1\n",
    "label[\"giraffe\"] = 2\n",
    "label[\"guitar\"] = 3\n",
    "label[\"horse\"] = 4\n",
    "label[\"house\"] = 5\n",
    "label[\"person\"] = 6\n",
    "label[\"0\"] = -1  # for test label"
   ]
  },
  {
   "cell_type": "markdown",
   "metadata": {},
   "source": [
    "## **Utils**"
   ]
  },
  {
   "cell_type": "code",
   "execution_count": 5,
   "metadata": {},
   "outputs": [],
   "source": [
    "def seed_everything(seed):\n",
    "    random_seed = seed\n",
    "    torch.manual_seed(random_seed)\n",
    "    torch.cuda.manual_seed(random_seed)\n",
    "    torch.cuda.manual_seed_all(random_seed)\n",
    "    torch.backends.cudnn.deterministic = True\n",
    "    torch.backends.cudnn.benchmark = False\n",
    "    np.random.seed(random_seed)\n",
    "    random.seed(random_seed)\n",
    "\n",
    "\n",
    "seed_everything(CFG[\"seed\"])"
   ]
  },
  {
   "cell_type": "code",
   "execution_count": 6,
   "metadata": {},
   "outputs": [],
   "source": [
    "def collate_fn(batch):\n",
    "    return tuple(zip(*batch))"
   ]
  },
  {
   "cell_type": "markdown",
   "metadata": {},
   "source": [
    "## **Dataset**"
   ]
  },
  {
   "cell_type": "code",
   "execution_count": 7,
   "metadata": {},
   "outputs": [],
   "source": [
    "def data_frame(data_path):\n",
    "    labels = []\n",
    "    for path in os.walk(data_path):\n",
    "        label_type = path[0].split(\"/\")[-1]\n",
    "        if label_type == \"train\" or label_type == \"test\":\n",
    "            continue\n",
    "        path_root = path[0]\n",
    "        images = path[-1]\n",
    "\n",
    "        idx = label[label_type]\n",
    "        for image in images:\n",
    "            img_path = os.path.join(path_root, image)\n",
    "            label_idx = {\"img_path\": img_path, \"label\": idx}\n",
    "            labels.append(label_idx)\n",
    "\n",
    "    data_frame = pd.DataFrame(labels)\n",
    "    data_frame = data_frame.sort_values([\"label\", \"img_path\"])\n",
    "    data_frame = data_frame.reset_index(drop=True)\n",
    "    return data_frame"
   ]
  },
  {
   "cell_type": "code",
   "execution_count": 8,
   "metadata": {},
   "outputs": [],
   "source": [
    "train_df = data_frame(data_path=train_path)\n",
    "test_df = data_frame(data_path=test_path)"
   ]
  },
  {
   "cell_type": "code",
   "execution_count": 9,
   "metadata": {},
   "outputs": [],
   "source": [
    "class ArtDataset(Dataset):\n",
    "    def __init__(self, df, transform=None):\n",
    "        super().__init__()\n",
    "        self.df = df.reset_index()\n",
    "        self.image_id = self.df.img_path\n",
    "        self.label = self.df.label\n",
    "        self.transform = transform\n",
    "\n",
    "    def __len__(self):\n",
    "        return len(self.df)\n",
    "\n",
    "    def __getitem__(self, idx):\n",
    "        image_id = self.image_id[idx]\n",
    "        label = self.label[idx]\n",
    "\n",
    "        image = cv2.imread(image_id)\n",
    "        image = cv2.cvtColor(image, cv2.COLOR_BGR2RGB)\n",
    "\n",
    "        if self.transform:\n",
    "            image = self.transform(image=np.array(image))[\"image\"]\n",
    "\n",
    "        image = torch.tensor(image, dtype=torch.float)\n",
    "        label = torch.tensor(label, dtype=torch.long)\n",
    "\n",
    "        return image, label"
   ]
  },
  {
   "cell_type": "markdown",
   "metadata": {},
   "source": [
    "## **Transform**"
   ]
  },
  {
   "cell_type": "code",
   "execution_count": 10,
   "metadata": {},
   "outputs": [],
   "source": [
    "def get_augmentation(data_type):\n",
    "    if data_type == \"train\":\n",
    "        return A.Compose(\n",
    "            [\n",
    "                A.OneOf(\n",
    "                    [\n",
    "                        A.GridDistortion(p=1.0),\n",
    "                        A.RandomGridShuffle(p=1.0),\n",
    "                        A.ElasticTransform(p=1.0),\n",
    "                        A.GridDropout(),\n",
    "                    ],\n",
    "                    p=1.0,\n",
    "                ),\n",
    "                A.Resize(224, 224),\n",
    "                A.HorizontalFlip(p=0.5),\n",
    "                A.Normalize(CFG[\"mean\"], CFG[\"std\"]),\n",
    "                ToTensorV2(),\n",
    "            ],\n",
    "            p=1.0,\n",
    "        )\n",
    "    else:  # \"Valid and Test\"\n",
    "        return A.Compose(\n",
    "            [\n",
    "                A.Resize(224, 224),\n",
    "                A.Normalize(CFG[\"mean\"], CFG[\"std\"]),\n",
    "                ToTensorV2(),\n",
    "            ],\n",
    "            p=1.0,\n",
    "        )"
   ]
  },
  {
   "cell_type": "markdown",
   "metadata": {},
   "source": [
    "## **Define Dataset**"
   ]
  },
  {
   "cell_type": "code",
   "execution_count": 11,
   "metadata": {},
   "outputs": [],
   "source": [
    "def fold_df(data_frame, folds=CFG[\"n_Folds\"]):\n",
    "    skf = StratifiedKFold(n_splits=folds)\n",
    "\n",
    "    X = data_frame.img_path.values\n",
    "    y = data_frame.label.values\n",
    "\n",
    "    split_df = []\n",
    "    for _, (train_index, valid_index) in enumerate(skf.split(X, y)):\n",
    "        train_df = data_frame.iloc[train_index].copy().reset_index(drop=True)\n",
    "        valid_df = data_frame.iloc[valid_index].copy().reset_index(drop=True)\n",
    "\n",
    "        split_df.append((train_df, valid_df))\n",
    "    return split_df"
   ]
  },
  {
   "cell_type": "markdown",
   "metadata": {},
   "source": [
    "## **Model**"
   ]
  },
  {
   "cell_type": "code",
   "execution_count": 12,
   "metadata": {},
   "outputs": [],
   "source": [
    "model = timm.create_model(\n",
    "    model_name=CFG[\"timm_model\"], pretrained=True, num_classes=7\n",
    ")"
   ]
  },
  {
   "cell_type": "code",
   "execution_count": 13,
   "metadata": {},
   "outputs": [
    {
     "name": "stdout",
     "output_type": "stream",
     "text": [
      "input : torch.Size([1, 3, 224, 224]) | output : torch.Size([1, 7])\n"
     ]
    }
   ],
   "source": [
    "x = torch.randn([1, 3, 224, 224])\n",
    "out = model(x).to(device)\n",
    "print(f\"input : {x.shape} | output : {out.size()}\")"
   ]
  },
  {
   "cell_type": "markdown",
   "metadata": {},
   "source": [
    "## **Loss & Optimizer**"
   ]
  },
  {
   "cell_type": "code",
   "execution_count": 14,
   "metadata": {},
   "outputs": [],
   "source": [
    "# criterion = nn.CrossEntropyLoss()\n",
    "criterion = losses.SoftCrossEntropyLoss()\n",
    "optimizer = MADGRAD(params=model.parameters(), lr=CFG[\"lr\"], weight_decay=CFG[\"weight_decay\"])\n",
    "scheduler = CosineAnnealingWarmRestarts(optimizer, T_0=CFG[\"n_epoch\"], T_mult=1)"
   ]
  },
  {
   "cell_type": "markdown",
   "metadata": {},
   "source": [
    "## **Get Dataloader**"
   ]
  },
  {
   "cell_type": "code",
   "execution_count": 15,
   "metadata": {},
   "outputs": [],
   "source": [
    "def get_dataloader(train_df, valid_df, test_df):\n",
    "    train_dataset = ArtDataset(\n",
    "        train_df, transform=get_augmentation(data_type=\"train\")\n",
    "    )\n",
    "    valid_dataset = ArtDataset(\n",
    "        valid_df, transform=get_augmentation(data_type=\"valid\")\n",
    "    )\n",
    "    test_dataset = ArtDataset(\n",
    "        test_df, transform=get_augmentation(data_type=\"test\")\n",
    "    )\n",
    "\n",
    "    train_loader = DataLoader(\n",
    "        train_dataset, batch_size=32, shuffle=True, num_workers=0, collate_fn=collate_fn\n",
    "    )\n",
    "    valid_loader = DataLoader(\n",
    "        valid_dataset, batch_size=16, shuffle=False, num_workers=0, collate_fn=collate_fn,\n",
    "    )\n",
    "    test_loader = DataLoader(\n",
    "        test_dataset, batch_size=16, shuffle=False, num_workers=0, collate_fn=collate_fn\n",
    "    )\n",
    "\n",
    "    return train_loader, valid_loader, test_loader"
   ]
  },
  {
   "cell_type": "markdown",
   "metadata": {},
   "source": [
    "## **Train/Valid One Epoch**"
   ]
  },
  {
   "cell_type": "code",
   "execution_count": 16,
   "metadata": {},
   "outputs": [],
   "source": [
    "def train_one_epoch(epoch, model, data_loader, criterion, optimizer, scheduler, device):\n",
    "    model.train()\n",
    "\n",
    "    cnt = 0\n",
    "    correct = 0\n",
    "    scaler = GradScaler()\n",
    "\n",
    "    pbar = tqdm(enumerate(data_loader), total=len(data_loader))\n",
    "    for step, (image, label) in pbar:\n",
    "\n",
    "        image = torch.stack(image).float()\n",
    "        label = torch.stack(label).long()\n",
    "\n",
    "        image = image.to(device)\n",
    "        label = label.to(device)\n",
    "\n",
    "        with autocast(enabled=True):\n",
    "            model = model.to(device)\n",
    "\n",
    "            output = model(image)\n",
    "            loss = criterion(output, label)\n",
    "\n",
    "        scaler.scale(loss).backward()\n",
    "        scaler.step(optimizer)\n",
    "        scaler.update()\n",
    "\n",
    "        optimizer.zero_grad()\n",
    "\n",
    "        _, preds = torch.max(output, 1)\n",
    "        correct += torch.sum(preds == label.data)\n",
    "        cnt += 1\n",
    "\n",
    "        description = f\"| # Epoch : {epoch + 1} Loss : {(loss.item()):.4f}\"\n",
    "        pbar.set_description(description)\n",
    "\n",
    "    acc = correct / cnt\n",
    "    scheduler.step()"
   ]
  },
  {
   "cell_type": "code",
   "execution_count": 17,
   "metadata": {},
   "outputs": [],
   "source": [
    "def valid_one_epoch(model, data_loader, split_df, device):\n",
    "    print(f\"Start Validation\")\n",
    "\n",
    "    model.eval()\n",
    "    correct = 0\n",
    "\n",
    "    pbar_valid = tqdm(enumerate(data_loader), total=len(data_loader))\n",
    "    for step, (image, label) in pbar_valid:\n",
    "\n",
    "        image = torch.stack(image).float()\n",
    "        label = torch.stack(label).long()\n",
    "\n",
    "        image = image.to(device)\n",
    "        label = label.to(device)\n",
    "        model = model.to(device)\n",
    "\n",
    "        output = model(image)\n",
    "\n",
    "        _, preds = torch.max(output, 1)\n",
    "        correct += torch.sum(preds == label.data)\n",
    "\n",
    "        description_valid = f\"| Acc : {(correct.item()/len(split_df)):.4f}\"\n",
    "        pbar_valid.set_description(description_valid)\n",
    "    acc = correct / len(split_df)\n",
    "\n",
    "    return acc, output"
   ]
  },
  {
   "cell_type": "markdown",
   "metadata": {},
   "source": [
    "## **Pseudo_labeling**"
   ]
  },
  {
   "cell_type": "code",
   "execution_count": 18,
   "metadata": {},
   "outputs": [],
   "source": [
    "def pseudo_labeling(model, train_dataset, test_loader):\n",
    "    print(f\"Start Pseudo\")\n",
    "    pseudo_dataset = copy.deepcopy(test_df)\n",
    "\n",
    "    model.eval()\n",
    "    pseudo = []\n",
    "    for step, (image, label) in tqdm(enumerate(test_loader), total=len(test_loader)):\n",
    "        image = torch.stack(image).float()\n",
    "        label = torch.stack(label)\n",
    "\n",
    "        image = image.to(device)\n",
    "        label = label.to(device)\n",
    "\n",
    "        output = model(image).to(device)\n",
    "\n",
    "        _, preds = torch.max(output, 1)\n",
    "        pseudo.extend(list(preds.cpu().numpy()))\n",
    "\n",
    "    pseudo_dataset.label = pseudo\n",
    "    pseudo_dataset = pd.concat([train_dataset, pseudo_dataset]).reset_index(drop=True)\n",
    "\n",
    "    return pseudo_dataset"
   ]
  },
  {
   "cell_type": "markdown",
   "metadata": {},
   "source": [
    "## **Make Save Directory**"
   ]
  },
  {
   "cell_type": "code",
   "execution_count": 19,
   "metadata": {},
   "outputs": [],
   "source": [
    "def save_model(model, file_name):\n",
    "    saved_dir = CFG[\"saved_dir\"]\n",
    "\n",
    "    if not os.path.isdir(saved_dir):\n",
    "        os.mkdir(saved_dir)\n",
    "        \n",
    "    output_path = os.path.join(saved_dir, file_name)\n",
    "    torch.save(model, output_path)\n",
    "    print(f\"model saved {file_name}\")"
   ]
  },
  {
   "cell_type": "markdown",
   "metadata": {},
   "source": [
    "## **Run !!**"
   ]
  },
  {
   "cell_type": "code",
   "execution_count": 20,
   "metadata": {},
   "outputs": [],
   "source": [
    "def run(\n",
    "    epochs, model, train_df, test_df, optimizer, criterion, scheduler, device, Folds=5\n",
    "):\n",
    "    torch.cuda.empty_cache()\n",
    "    gc.collect()\n",
    "    for _ in range(CFG[\"n_iter\"]):\n",
    "        for fold in range(CFG[\"n_Folds\"]):\n",
    "\n",
    "            print(f\"{fold+1} fold start\")\n",
    "            split_df = fold_df(train_df, folds=CFG[\"n_Folds\"])\n",
    "            train_split = split_df[fold][0]\n",
    "            valid_split = split_df[fold][1]\n",
    "            train_loader, valid_loader, test_loader = get_dataloader(\n",
    "                train_split, valid_split, test_df\n",
    "            )\n",
    "\n",
    "            early_stopping_cnt = 0\n",
    "            patience = CFG[\"patience\"]\n",
    "            best_acc = 0.5\n",
    "\n",
    "            for epoch in range(epochs):\n",
    "                train_one_epoch(\n",
    "                    epoch, model, train_loader, criterion, optimizer, scheduler, device\n",
    "                )\n",
    "                with torch.no_grad():\n",
    "                    valid_acc, outputs = valid_one_epoch(\n",
    "                        model, valid_loader, valid_split, device\n",
    "                    )\n",
    "\n",
    "                if valid_acc > best_acc:\n",
    "                    best_acc = valid_acc\n",
    "                    early_stopping_cnt = 0\n",
    "                    save_file_name = f\"{best_acc:.4f}_{CFG['timm_model']}_fold{fold+1}.pt\"\n",
    "                    save_model(model, save_file_name)\n",
    "                else:\n",
    "                    early_stopping_cnt += 1\n",
    "                    print(f\"Early Stopping Counter is {early_stopping_cnt}\")\n",
    "                    if early_stopping_cnt >= patience:\n",
    "                        print(\n",
    "                            f\"Early Stopping Counter: {early_stopping_cnt} out of {patience}\"\n",
    "                        )\n",
    "                        break\n",
    "\n",
    "            scheduler.step(best_acc)\n",
    "        train_df = pseudo_labeling(model, train_df, test_loader)\n",
    "        train_loader, _, _ = get_dataloader(train_df, train_df, test_df)"
   ]
  },
  {
   "cell_type": "code",
   "execution_count": 21,
   "metadata": {},
   "outputs": [
    {
     "name": "stdout",
     "output_type": "stream",
     "text": [
      "1 fold start\n"
     ]
    },
    {
     "name": "stderr",
     "output_type": "stream",
     "text": [
      "| # Epoch : 1 Loss : 0.2482: 100%|██████████| 43/43 [00:43<00:00,  1.01s/it]\n"
     ]
    },
    {
     "name": "stdout",
     "output_type": "stream",
     "text": [
      "Start Validation\n"
     ]
    },
    {
     "name": "stderr",
     "output_type": "stream",
     "text": [
      "| Acc : 0.9559: 100%|██████████| 22/22 [00:03<00:00,  6.07it/s]\n"
     ]
    },
    {
     "name": "stdout",
     "output_type": "stream",
     "text": [
      "model saved 0.9559_swin_base_patch4_window7_224_fold1.pt\n"
     ]
    },
    {
     "name": "stderr",
     "output_type": "stream",
     "text": [
      "| # Epoch : 2 Loss : 0.4427: 100%|██████████| 43/43 [00:44<00:00,  1.05s/it]\n"
     ]
    },
    {
     "name": "stdout",
     "output_type": "stream",
     "text": [
      "Start Validation\n"
     ]
    },
    {
     "name": "stderr",
     "output_type": "stream",
     "text": [
      "| Acc : 0.9441: 100%|██████████| 22/22 [00:03<00:00,  6.79it/s]\n"
     ]
    },
    {
     "name": "stdout",
     "output_type": "stream",
     "text": [
      "Early Stopping Counter is 1\n"
     ]
    },
    {
     "name": "stderr",
     "output_type": "stream",
     "text": [
      "| # Epoch : 3 Loss : 0.0461: 100%|██████████| 43/43 [00:43<00:00,  1.01s/it]\n"
     ]
    },
    {
     "name": "stdout",
     "output_type": "stream",
     "text": [
      "Start Validation\n"
     ]
    },
    {
     "name": "stderr",
     "output_type": "stream",
     "text": [
      "| Acc : 0.9735: 100%|██████████| 22/22 [00:02<00:00,  7.64it/s]\n"
     ]
    },
    {
     "name": "stdout",
     "output_type": "stream",
     "text": [
      "model saved 0.9735_swin_base_patch4_window7_224_fold1.pt\n"
     ]
    },
    {
     "name": "stderr",
     "output_type": "stream",
     "text": [
      "| # Epoch : 4 Loss : 0.2032: 100%|██████████| 43/43 [00:42<00:00,  1.02it/s]\n"
     ]
    },
    {
     "name": "stdout",
     "output_type": "stream",
     "text": [
      "Start Validation\n"
     ]
    },
    {
     "name": "stderr",
     "output_type": "stream",
     "text": [
      "| Acc : 0.9647: 100%|██████████| 22/22 [00:03<00:00,  7.18it/s]\n"
     ]
    },
    {
     "name": "stdout",
     "output_type": "stream",
     "text": [
      "Early Stopping Counter is 1\n"
     ]
    },
    {
     "name": "stderr",
     "output_type": "stream",
     "text": [
      "| # Epoch : 5 Loss : 0.8954: 100%|██████████| 43/43 [00:42<00:00,  1.00it/s]\n"
     ]
    },
    {
     "name": "stdout",
     "output_type": "stream",
     "text": [
      "Start Validation\n"
     ]
    },
    {
     "name": "stderr",
     "output_type": "stream",
     "text": [
      "| Acc : 0.9559: 100%|██████████| 22/22 [00:02<00:00,  8.01it/s]\n"
     ]
    },
    {
     "name": "stdout",
     "output_type": "stream",
     "text": [
      "Early Stopping Counter is 2\n"
     ]
    },
    {
     "name": "stderr",
     "output_type": "stream",
     "text": [
      "| # Epoch : 6 Loss : 0.0384: 100%|██████████| 43/43 [00:43<00:00,  1.02s/it]\n"
     ]
    },
    {
     "name": "stdout",
     "output_type": "stream",
     "text": [
      "Start Validation\n"
     ]
    },
    {
     "name": "stderr",
     "output_type": "stream",
     "text": [
      "| Acc : 0.9588: 100%|██████████| 22/22 [00:03<00:00,  7.21it/s]\n"
     ]
    },
    {
     "name": "stdout",
     "output_type": "stream",
     "text": [
      "Early Stopping Counter is 3\n",
      "Early Stopping Counter: 3 out of 3\n",
      "2 fold start\n"
     ]
    },
    {
     "name": "stderr",
     "output_type": "stream",
     "text": [
      "| # Epoch : 1 Loss : 0.6402: 100%|██████████| 43/43 [00:44<00:00,  1.04s/it]\n"
     ]
    },
    {
     "name": "stdout",
     "output_type": "stream",
     "text": [
      "Start Validation\n"
     ]
    },
    {
     "name": "stderr",
     "output_type": "stream",
     "text": [
      "| Acc : 0.9941: 100%|██████████| 22/22 [00:02<00:00,  8.07it/s]\n"
     ]
    },
    {
     "name": "stdout",
     "output_type": "stream",
     "text": [
      "model saved 0.9941_swin_base_patch4_window7_224_fold2.pt\n"
     ]
    },
    {
     "name": "stderr",
     "output_type": "stream",
     "text": [
      "| # Epoch : 2 Loss : 0.0095: 100%|██████████| 43/43 [00:41<00:00,  1.04it/s]\n"
     ]
    },
    {
     "name": "stdout",
     "output_type": "stream",
     "text": [
      "Start Validation\n"
     ]
    },
    {
     "name": "stderr",
     "output_type": "stream",
     "text": [
      "| Acc : 0.9853: 100%|██████████| 22/22 [00:02<00:00,  7.60it/s]\n"
     ]
    },
    {
     "name": "stdout",
     "output_type": "stream",
     "text": [
      "Early Stopping Counter is 1\n"
     ]
    },
    {
     "name": "stderr",
     "output_type": "stream",
     "text": [
      "| # Epoch : 3 Loss : 0.2007: 100%|██████████| 43/43 [00:43<00:00,  1.00s/it]\n"
     ]
    },
    {
     "name": "stdout",
     "output_type": "stream",
     "text": [
      "Start Validation\n"
     ]
    },
    {
     "name": "stderr",
     "output_type": "stream",
     "text": [
      "| Acc : 0.9882: 100%|██████████| 22/22 [00:03<00:00,  7.28it/s]\n"
     ]
    },
    {
     "name": "stdout",
     "output_type": "stream",
     "text": [
      "Early Stopping Counter is 2\n"
     ]
    },
    {
     "name": "stderr",
     "output_type": "stream",
     "text": [
      "| # Epoch : 4 Loss : 0.0045: 100%|██████████| 43/43 [00:41<00:00,  1.03it/s]\n"
     ]
    },
    {
     "name": "stdout",
     "output_type": "stream",
     "text": [
      "Start Validation\n"
     ]
    },
    {
     "name": "stderr",
     "output_type": "stream",
     "text": [
      "| Acc : 0.9735: 100%|██████████| 22/22 [00:03<00:00,  7.20it/s]\n"
     ]
    },
    {
     "name": "stdout",
     "output_type": "stream",
     "text": [
      "Early Stopping Counter is 3\n",
      "Early Stopping Counter: 3 out of 3\n",
      "3 fold start\n"
     ]
    },
    {
     "name": "stderr",
     "output_type": "stream",
     "text": [
      "| # Epoch : 1 Loss : 0.1645: 100%|██████████| 43/43 [00:45<00:00,  1.07s/it]\n"
     ]
    },
    {
     "name": "stdout",
     "output_type": "stream",
     "text": [
      "Start Validation\n"
     ]
    },
    {
     "name": "stderr",
     "output_type": "stream",
     "text": [
      "| Acc : 0.9912: 100%|██████████| 22/22 [00:03<00:00,  6.92it/s]\n"
     ]
    },
    {
     "name": "stdout",
     "output_type": "stream",
     "text": [
      "model saved 0.9912_swin_base_patch4_window7_224_fold3.pt\n"
     ]
    },
    {
     "name": "stderr",
     "output_type": "stream",
     "text": [
      "| # Epoch : 2 Loss : 0.4886: 100%|██████████| 43/43 [00:45<00:00,  1.05s/it]\n"
     ]
    },
    {
     "name": "stdout",
     "output_type": "stream",
     "text": [
      "Start Validation\n"
     ]
    },
    {
     "name": "stderr",
     "output_type": "stream",
     "text": [
      "| Acc : 0.9912: 100%|██████████| 22/22 [00:02<00:00,  7.98it/s]\n"
     ]
    },
    {
     "name": "stdout",
     "output_type": "stream",
     "text": [
      "Early Stopping Counter is 1\n"
     ]
    },
    {
     "name": "stderr",
     "output_type": "stream",
     "text": [
      "| # Epoch : 3 Loss : 0.0595: 100%|██████████| 43/43 [00:42<00:00,  1.00it/s]\n"
     ]
    },
    {
     "name": "stdout",
     "output_type": "stream",
     "text": [
      "Start Validation\n"
     ]
    },
    {
     "name": "stderr",
     "output_type": "stream",
     "text": [
      "| Acc : 0.9882: 100%|██████████| 22/22 [00:03<00:00,  7.11it/s]\n"
     ]
    },
    {
     "name": "stdout",
     "output_type": "stream",
     "text": [
      "Early Stopping Counter is 2\n"
     ]
    },
    {
     "name": "stderr",
     "output_type": "stream",
     "text": [
      "| # Epoch : 4 Loss : 0.6418: 100%|██████████| 43/43 [00:42<00:00,  1.00it/s]\n"
     ]
    },
    {
     "name": "stdout",
     "output_type": "stream",
     "text": [
      "Start Validation\n"
     ]
    },
    {
     "name": "stderr",
     "output_type": "stream",
     "text": [
      "| Acc : 0.9882: 100%|██████████| 22/22 [00:03<00:00,  7.28it/s]\n"
     ]
    },
    {
     "name": "stdout",
     "output_type": "stream",
     "text": [
      "Early Stopping Counter is 3\n",
      "Early Stopping Counter: 3 out of 3\n",
      "4 fold start\n"
     ]
    },
    {
     "name": "stderr",
     "output_type": "stream",
     "text": [
      "| # Epoch : 1 Loss : 0.0547: 100%|██████████| 43/43 [00:42<00:00,  1.00it/s]\n"
     ]
    },
    {
     "name": "stdout",
     "output_type": "stream",
     "text": [
      "Start Validation\n"
     ]
    },
    {
     "name": "stderr",
     "output_type": "stream",
     "text": [
      "| Acc : 0.9941: 100%|██████████| 22/22 [00:02<00:00,  7.75it/s]\n"
     ]
    },
    {
     "name": "stdout",
     "output_type": "stream",
     "text": [
      "model saved 0.9941_swin_base_patch4_window7_224_fold4.pt\n"
     ]
    },
    {
     "name": "stderr",
     "output_type": "stream",
     "text": [
      "| # Epoch : 2 Loss : 0.0024: 100%|██████████| 43/43 [00:42<00:00,  1.01it/s]\n"
     ]
    },
    {
     "name": "stdout",
     "output_type": "stream",
     "text": [
      "Start Validation\n"
     ]
    },
    {
     "name": "stderr",
     "output_type": "stream",
     "text": [
      "| Acc : 0.9912: 100%|██████████| 22/22 [00:02<00:00,  8.12it/s]\n"
     ]
    },
    {
     "name": "stdout",
     "output_type": "stream",
     "text": [
      "Early Stopping Counter is 1\n"
     ]
    },
    {
     "name": "stderr",
     "output_type": "stream",
     "text": [
      "| # Epoch : 3 Loss : 0.1048: 100%|██████████| 43/43 [00:41<00:00,  1.03it/s]\n"
     ]
    },
    {
     "name": "stdout",
     "output_type": "stream",
     "text": [
      "Start Validation\n"
     ]
    },
    {
     "name": "stderr",
     "output_type": "stream",
     "text": [
      "| Acc : 0.9794: 100%|██████████| 22/22 [00:03<00:00,  6.64it/s]\n"
     ]
    },
    {
     "name": "stdout",
     "output_type": "stream",
     "text": [
      "Early Stopping Counter is 2\n"
     ]
    },
    {
     "name": "stderr",
     "output_type": "stream",
     "text": [
      "| # Epoch : 4 Loss : 0.0338: 100%|██████████| 43/43 [00:43<00:00,  1.02s/it]\n"
     ]
    },
    {
     "name": "stdout",
     "output_type": "stream",
     "text": [
      "Start Validation\n"
     ]
    },
    {
     "name": "stderr",
     "output_type": "stream",
     "text": [
      "| Acc : 0.9882: 100%|██████████| 22/22 [00:03<00:00,  7.02it/s]\n"
     ]
    },
    {
     "name": "stdout",
     "output_type": "stream",
     "text": [
      "Early Stopping Counter is 3\n",
      "Early Stopping Counter: 3 out of 3\n",
      "5 fold start\n"
     ]
    },
    {
     "name": "stderr",
     "output_type": "stream",
     "text": [
      "| # Epoch : 1 Loss : 0.0665: 100%|██████████| 43/43 [00:42<00:00,  1.01it/s]\n"
     ]
    },
    {
     "name": "stdout",
     "output_type": "stream",
     "text": [
      "Start Validation\n"
     ]
    },
    {
     "name": "stderr",
     "output_type": "stream",
     "text": [
      "| Acc : 0.9971: 100%|██████████| 22/22 [00:02<00:00,  7.98it/s]\n"
     ]
    },
    {
     "name": "stdout",
     "output_type": "stream",
     "text": [
      "model saved 0.9971_swin_base_patch4_window7_224_fold5.pt\n"
     ]
    },
    {
     "name": "stderr",
     "output_type": "stream",
     "text": [
      "| # Epoch : 2 Loss : 0.1136: 100%|██████████| 43/43 [00:43<00:00,  1.00s/it]\n"
     ]
    },
    {
     "name": "stdout",
     "output_type": "stream",
     "text": [
      "Start Validation\n"
     ]
    },
    {
     "name": "stderr",
     "output_type": "stream",
     "text": [
      "| Acc : 1.0000: 100%|██████████| 22/22 [00:02<00:00,  7.63it/s]\n"
     ]
    },
    {
     "name": "stdout",
     "output_type": "stream",
     "text": [
      "model saved 1.0000_swin_base_patch4_window7_224_fold5.pt\n"
     ]
    },
    {
     "name": "stderr",
     "output_type": "stream",
     "text": [
      "| # Epoch : 3 Loss : 0.0547: 100%|██████████| 43/43 [00:44<00:00,  1.03s/it]\n"
     ]
    },
    {
     "name": "stdout",
     "output_type": "stream",
     "text": [
      "Start Validation\n"
     ]
    },
    {
     "name": "stderr",
     "output_type": "stream",
     "text": [
      "| Acc : 0.9971: 100%|██████████| 22/22 [00:02<00:00,  7.43it/s]\n"
     ]
    },
    {
     "name": "stdout",
     "output_type": "stream",
     "text": [
      "Early Stopping Counter is 1\n"
     ]
    },
    {
     "name": "stderr",
     "output_type": "stream",
     "text": [
      "| # Epoch : 4 Loss : 0.0055: 100%|██████████| 43/43 [00:42<00:00,  1.00it/s]\n"
     ]
    },
    {
     "name": "stdout",
     "output_type": "stream",
     "text": [
      "Start Validation\n"
     ]
    },
    {
     "name": "stderr",
     "output_type": "stream",
     "text": [
      "| Acc : 1.0000: 100%|██████████| 22/22 [00:02<00:00,  7.73it/s]\n"
     ]
    },
    {
     "name": "stdout",
     "output_type": "stream",
     "text": [
      "Early Stopping Counter is 2\n"
     ]
    },
    {
     "name": "stderr",
     "output_type": "stream",
     "text": [
      "| # Epoch : 5 Loss : 0.0514: 100%|██████████| 43/43 [00:42<00:00,  1.02it/s]\n"
     ]
    },
    {
     "name": "stdout",
     "output_type": "stream",
     "text": [
      "Start Validation\n"
     ]
    },
    {
     "name": "stderr",
     "output_type": "stream",
     "text": [
      "| Acc : 0.9794: 100%|██████████| 22/22 [00:02<00:00,  7.75it/s]\n"
     ]
    },
    {
     "name": "stdout",
     "output_type": "stream",
     "text": [
      "Early Stopping Counter is 3\n",
      "Early Stopping Counter: 3 out of 3\n",
      "Start Pseudo\n"
     ]
    },
    {
     "name": "stderr",
     "output_type": "stream",
     "text": [
      "100%|██████████| 22/22 [00:02<00:00,  7.38it/s]\n"
     ]
    },
    {
     "name": "stdout",
     "output_type": "stream",
     "text": [
      "1 fold start\n"
     ]
    },
    {
     "name": "stderr",
     "output_type": "stream",
     "text": [
      "| # Epoch : 1 Loss : 0.0516: 100%|██████████| 52/52 [00:53<00:00,  1.04s/it]\n"
     ]
    },
    {
     "name": "stdout",
     "output_type": "stream",
     "text": [
      "Start Validation\n"
     ]
    },
    {
     "name": "stderr",
     "output_type": "stream",
     "text": [
      "| Acc : 1.0000: 100%|██████████| 26/26 [00:03<00:00,  7.95it/s]\n"
     ]
    },
    {
     "name": "stdout",
     "output_type": "stream",
     "text": [
      "model saved 1.0000_swin_base_patch4_window7_224_fold1.pt\n"
     ]
    },
    {
     "name": "stderr",
     "output_type": "stream",
     "text": [
      "| # Epoch : 2 Loss : 0.1770: 100%|██████████| 52/52 [00:52<00:00,  1.00s/it]\n"
     ]
    },
    {
     "name": "stdout",
     "output_type": "stream",
     "text": [
      "Start Validation\n"
     ]
    },
    {
     "name": "stderr",
     "output_type": "stream",
     "text": [
      "| Acc : 0.9976: 100%|██████████| 26/26 [00:03<00:00,  7.32it/s]\n"
     ]
    },
    {
     "name": "stdout",
     "output_type": "stream",
     "text": [
      "Early Stopping Counter is 1\n"
     ]
    },
    {
     "name": "stderr",
     "output_type": "stream",
     "text": [
      "| # Epoch : 3 Loss : 0.1401: 100%|██████████| 52/52 [00:50<00:00,  1.04it/s]\n"
     ]
    },
    {
     "name": "stdout",
     "output_type": "stream",
     "text": [
      "Start Validation\n"
     ]
    },
    {
     "name": "stderr",
     "output_type": "stream",
     "text": [
      "| Acc : 1.0000: 100%|██████████| 26/26 [00:03<00:00,  7.57it/s]\n"
     ]
    },
    {
     "name": "stdout",
     "output_type": "stream",
     "text": [
      "Early Stopping Counter is 2\n"
     ]
    },
    {
     "name": "stderr",
     "output_type": "stream",
     "text": [
      "| # Epoch : 4 Loss : 0.6362: 100%|██████████| 52/52 [00:54<00:00,  1.05s/it]\n"
     ]
    },
    {
     "name": "stdout",
     "output_type": "stream",
     "text": [
      "Start Validation\n"
     ]
    },
    {
     "name": "stderr",
     "output_type": "stream",
     "text": [
      "| Acc : 0.9829: 100%|██████████| 26/26 [00:04<00:00,  6.34it/s]\n"
     ]
    },
    {
     "name": "stdout",
     "output_type": "stream",
     "text": [
      "Early Stopping Counter is 3\n",
      "Early Stopping Counter: 3 out of 3\n",
      "2 fold start\n"
     ]
    },
    {
     "name": "stderr",
     "output_type": "stream",
     "text": [
      "| # Epoch : 1 Loss : 0.5222: 100%|██████████| 52/52 [00:54<00:00,  1.06s/it]\n"
     ]
    },
    {
     "name": "stdout",
     "output_type": "stream",
     "text": [
      "Start Validation\n"
     ]
    },
    {
     "name": "stderr",
     "output_type": "stream",
     "text": [
      "| Acc : 0.9927: 100%|██████████| 26/26 [00:03<00:00,  6.79it/s]\n"
     ]
    },
    {
     "name": "stdout",
     "output_type": "stream",
     "text": [
      "model saved 0.9927_swin_base_patch4_window7_224_fold2.pt\n"
     ]
    },
    {
     "name": "stderr",
     "output_type": "stream",
     "text": [
      "| # Epoch : 2 Loss : 0.0041: 100%|██████████| 52/52 [00:52<00:00,  1.01s/it]\n"
     ]
    },
    {
     "name": "stdout",
     "output_type": "stream",
     "text": [
      "Start Validation\n"
     ]
    },
    {
     "name": "stderr",
     "output_type": "stream",
     "text": [
      "| Acc : 0.9780: 100%|██████████| 26/26 [00:03<00:00,  7.21it/s]\n"
     ]
    },
    {
     "name": "stdout",
     "output_type": "stream",
     "text": [
      "Early Stopping Counter is 1\n"
     ]
    },
    {
     "name": "stderr",
     "output_type": "stream",
     "text": [
      "| # Epoch : 3 Loss : 0.3560: 100%|██████████| 52/52 [00:52<00:00,  1.01s/it]\n"
     ]
    },
    {
     "name": "stdout",
     "output_type": "stream",
     "text": [
      "Start Validation\n"
     ]
    },
    {
     "name": "stderr",
     "output_type": "stream",
     "text": [
      "| Acc : 1.0000: 100%|██████████| 26/26 [00:03<00:00,  7.18it/s]\n"
     ]
    },
    {
     "name": "stdout",
     "output_type": "stream",
     "text": [
      "model saved 1.0000_swin_base_patch4_window7_224_fold2.pt\n"
     ]
    },
    {
     "name": "stderr",
     "output_type": "stream",
     "text": [
      "| # Epoch : 4 Loss : 0.0130: 100%|██████████| 52/52 [00:54<00:00,  1.04s/it]\n"
     ]
    },
    {
     "name": "stdout",
     "output_type": "stream",
     "text": [
      "Start Validation\n"
     ]
    },
    {
     "name": "stderr",
     "output_type": "stream",
     "text": [
      "| Acc : 0.9976: 100%|██████████| 26/26 [00:03<00:00,  7.36it/s]\n"
     ]
    },
    {
     "name": "stdout",
     "output_type": "stream",
     "text": [
      "Early Stopping Counter is 1\n"
     ]
    },
    {
     "name": "stderr",
     "output_type": "stream",
     "text": [
      "| # Epoch : 5 Loss : 0.0268: 100%|██████████| 52/52 [00:52<00:00,  1.01s/it]\n"
     ]
    },
    {
     "name": "stdout",
     "output_type": "stream",
     "text": [
      "Start Validation\n"
     ]
    },
    {
     "name": "stderr",
     "output_type": "stream",
     "text": [
      "| Acc : 0.9927: 100%|██████████| 26/26 [00:03<00:00,  7.31it/s]\n"
     ]
    },
    {
     "name": "stdout",
     "output_type": "stream",
     "text": [
      "Early Stopping Counter is 2\n"
     ]
    },
    {
     "name": "stderr",
     "output_type": "stream",
     "text": [
      "| # Epoch : 6 Loss : 0.0052: 100%|██████████| 52/52 [00:52<00:00,  1.00s/it]\n"
     ]
    },
    {
     "name": "stdout",
     "output_type": "stream",
     "text": [
      "Start Validation\n"
     ]
    },
    {
     "name": "stderr",
     "output_type": "stream",
     "text": [
      "| Acc : 0.9951: 100%|██████████| 26/26 [00:03<00:00,  7.28it/s]\n"
     ]
    },
    {
     "name": "stdout",
     "output_type": "stream",
     "text": [
      "Early Stopping Counter is 3\n",
      "Early Stopping Counter: 3 out of 3\n",
      "3 fold start\n"
     ]
    },
    {
     "name": "stderr",
     "output_type": "stream",
     "text": [
      "| # Epoch : 1 Loss : 0.0644: 100%|██████████| 52/52 [00:52<00:00,  1.01s/it]\n"
     ]
    },
    {
     "name": "stdout",
     "output_type": "stream",
     "text": [
      "Start Validation\n"
     ]
    },
    {
     "name": "stderr",
     "output_type": "stream",
     "text": [
      "| Acc : 0.9951: 100%|██████████| 26/26 [00:03<00:00,  6.70it/s]\n"
     ]
    },
    {
     "name": "stdout",
     "output_type": "stream",
     "text": [
      "model saved 0.9951_swin_base_patch4_window7_224_fold3.pt\n"
     ]
    },
    {
     "name": "stderr",
     "output_type": "stream",
     "text": [
      "| # Epoch : 2 Loss : 0.0005: 100%|██████████| 52/52 [00:51<00:00,  1.01it/s]\n"
     ]
    },
    {
     "name": "stdout",
     "output_type": "stream",
     "text": [
      "Start Validation\n"
     ]
    },
    {
     "name": "stderr",
     "output_type": "stream",
     "text": [
      "| Acc : 0.9902: 100%|██████████| 26/26 [00:03<00:00,  7.24it/s]\n"
     ]
    },
    {
     "name": "stdout",
     "output_type": "stream",
     "text": [
      "Early Stopping Counter is 1\n"
     ]
    },
    {
     "name": "stderr",
     "output_type": "stream",
     "text": [
      "| # Epoch : 3 Loss : 0.0008: 100%|██████████| 52/52 [00:49<00:00,  1.05it/s]\n"
     ]
    },
    {
     "name": "stdout",
     "output_type": "stream",
     "text": [
      "Start Validation\n"
     ]
    },
    {
     "name": "stderr",
     "output_type": "stream",
     "text": [
      "| Acc : 0.9927: 100%|██████████| 26/26 [00:03<00:00,  7.61it/s]\n"
     ]
    },
    {
     "name": "stdout",
     "output_type": "stream",
     "text": [
      "Early Stopping Counter is 2\n"
     ]
    },
    {
     "name": "stderr",
     "output_type": "stream",
     "text": [
      "| # Epoch : 4 Loss : 0.0605: 100%|██████████| 52/52 [00:54<00:00,  1.05s/it]\n"
     ]
    },
    {
     "name": "stdout",
     "output_type": "stream",
     "text": [
      "Start Validation\n"
     ]
    },
    {
     "name": "stderr",
     "output_type": "stream",
     "text": [
      "| Acc : 0.9927: 100%|██████████| 26/26 [00:03<00:00,  7.55it/s]\n"
     ]
    },
    {
     "name": "stdout",
     "output_type": "stream",
     "text": [
      "Early Stopping Counter is 3\n",
      "Early Stopping Counter: 3 out of 3\n",
      "4 fold start\n"
     ]
    },
    {
     "name": "stderr",
     "output_type": "stream",
     "text": [
      "| # Epoch : 1 Loss : 0.0029: 100%|██████████| 52/52 [00:53<00:00,  1.04s/it]\n"
     ]
    },
    {
     "name": "stdout",
     "output_type": "stream",
     "text": [
      "Start Validation\n"
     ]
    },
    {
     "name": "stderr",
     "output_type": "stream",
     "text": [
      "| Acc : 0.9927: 100%|██████████| 26/26 [00:03<00:00,  7.55it/s]\n"
     ]
    },
    {
     "name": "stdout",
     "output_type": "stream",
     "text": [
      "model saved 0.9927_swin_base_patch4_window7_224_fold4.pt\n"
     ]
    },
    {
     "name": "stderr",
     "output_type": "stream",
     "text": [
      "| # Epoch : 2 Loss : 0.0150: 100%|██████████| 52/52 [00:52<00:00,  1.01s/it]\n"
     ]
    },
    {
     "name": "stdout",
     "output_type": "stream",
     "text": [
      "Start Validation\n"
     ]
    },
    {
     "name": "stderr",
     "output_type": "stream",
     "text": [
      "| Acc : 1.0000: 100%|██████████| 26/26 [00:03<00:00,  7.51it/s]\n"
     ]
    },
    {
     "name": "stdout",
     "output_type": "stream",
     "text": [
      "model saved 1.0000_swin_base_patch4_window7_224_fold4.pt\n"
     ]
    },
    {
     "name": "stderr",
     "output_type": "stream",
     "text": [
      "| # Epoch : 3 Loss : 0.0041: 100%|██████████| 52/52 [00:52<00:00,  1.02s/it]\n"
     ]
    },
    {
     "name": "stdout",
     "output_type": "stream",
     "text": [
      "Start Validation\n"
     ]
    },
    {
     "name": "stderr",
     "output_type": "stream",
     "text": [
      "| Acc : 0.9976: 100%|██████████| 26/26 [00:03<00:00,  8.05it/s]\n"
     ]
    },
    {
     "name": "stdout",
     "output_type": "stream",
     "text": [
      "Early Stopping Counter is 1\n"
     ]
    },
    {
     "name": "stderr",
     "output_type": "stream",
     "text": [
      "| # Epoch : 4 Loss : 0.0014: 100%|██████████| 52/52 [00:54<00:00,  1.04s/it]\n"
     ]
    },
    {
     "name": "stdout",
     "output_type": "stream",
     "text": [
      "Start Validation\n"
     ]
    },
    {
     "name": "stderr",
     "output_type": "stream",
     "text": [
      "| Acc : 0.9976: 100%|██████████| 26/26 [00:03<00:00,  7.74it/s]\n"
     ]
    },
    {
     "name": "stdout",
     "output_type": "stream",
     "text": [
      "Early Stopping Counter is 2\n"
     ]
    },
    {
     "name": "stderr",
     "output_type": "stream",
     "text": [
      "| # Epoch : 5 Loss : 0.0001: 100%|██████████| 52/52 [00:52<00:00,  1.00s/it]\n"
     ]
    },
    {
     "name": "stdout",
     "output_type": "stream",
     "text": [
      "Start Validation\n"
     ]
    },
    {
     "name": "stderr",
     "output_type": "stream",
     "text": [
      "| Acc : 0.9976: 100%|██████████| 26/26 [00:03<00:00,  7.30it/s]\n"
     ]
    },
    {
     "name": "stdout",
     "output_type": "stream",
     "text": [
      "Early Stopping Counter is 3\n",
      "Early Stopping Counter: 3 out of 3\n",
      "5 fold start\n"
     ]
    },
    {
     "name": "stderr",
     "output_type": "stream",
     "text": [
      "| # Epoch : 1 Loss : 0.8015: 100%|██████████| 52/52 [00:54<00:00,  1.04s/it]\n"
     ]
    },
    {
     "name": "stdout",
     "output_type": "stream",
     "text": [
      "Start Validation\n"
     ]
    },
    {
     "name": "stderr",
     "output_type": "stream",
     "text": [
      "| Acc : 0.9878: 100%|██████████| 26/26 [00:03<00:00,  7.17it/s]\n"
     ]
    },
    {
     "name": "stdout",
     "output_type": "stream",
     "text": [
      "model saved 0.9878_swin_base_patch4_window7_224_fold5.pt\n"
     ]
    },
    {
     "name": "stderr",
     "output_type": "stream",
     "text": [
      "| # Epoch : 2 Loss : 0.0041: 100%|██████████| 52/52 [00:56<00:00,  1.08s/it]\n"
     ]
    },
    {
     "name": "stdout",
     "output_type": "stream",
     "text": [
      "Start Validation\n"
     ]
    },
    {
     "name": "stderr",
     "output_type": "stream",
     "text": [
      "| Acc : 0.9902: 100%|██████████| 26/26 [00:03<00:00,  7.81it/s]\n"
     ]
    },
    {
     "name": "stdout",
     "output_type": "stream",
     "text": [
      "model saved 0.9902_swin_base_patch4_window7_224_fold5.pt\n"
     ]
    },
    {
     "name": "stderr",
     "output_type": "stream",
     "text": [
      "| # Epoch : 3 Loss : 0.0073: 100%|██████████| 52/52 [00:53<00:00,  1.02s/it]\n"
     ]
    },
    {
     "name": "stdout",
     "output_type": "stream",
     "text": [
      "Start Validation\n"
     ]
    },
    {
     "name": "stderr",
     "output_type": "stream",
     "text": [
      "| Acc : 0.9927: 100%|██████████| 26/26 [00:03<00:00,  7.69it/s]\n"
     ]
    },
    {
     "name": "stdout",
     "output_type": "stream",
     "text": [
      "model saved 0.9927_swin_base_patch4_window7_224_fold5.pt\n"
     ]
    },
    {
     "name": "stderr",
     "output_type": "stream",
     "text": [
      "| # Epoch : 4 Loss : 0.2962: 100%|██████████| 52/52 [00:53<00:00,  1.03s/it]\n"
     ]
    },
    {
     "name": "stdout",
     "output_type": "stream",
     "text": [
      "Start Validation\n"
     ]
    },
    {
     "name": "stderr",
     "output_type": "stream",
     "text": [
      "| Acc : 0.9756: 100%|██████████| 26/26 [00:03<00:00,  6.92it/s]\n"
     ]
    },
    {
     "name": "stdout",
     "output_type": "stream",
     "text": [
      "Early Stopping Counter is 1\n"
     ]
    },
    {
     "name": "stderr",
     "output_type": "stream",
     "text": [
      "| # Epoch : 5 Loss : 0.0001: 100%|██████████| 52/52 [00:52<00:00,  1.00s/it]\n"
     ]
    },
    {
     "name": "stdout",
     "output_type": "stream",
     "text": [
      "Start Validation\n"
     ]
    },
    {
     "name": "stderr",
     "output_type": "stream",
     "text": [
      "| Acc : 0.9927: 100%|██████████| 26/26 [00:03<00:00,  7.19it/s]\n"
     ]
    },
    {
     "name": "stdout",
     "output_type": "stream",
     "text": [
      "Early Stopping Counter is 2\n"
     ]
    },
    {
     "name": "stderr",
     "output_type": "stream",
     "text": [
      "| # Epoch : 6 Loss : 0.0994: 100%|██████████| 52/52 [00:53<00:00,  1.02s/it]\n"
     ]
    },
    {
     "name": "stdout",
     "output_type": "stream",
     "text": [
      "Start Validation\n"
     ]
    },
    {
     "name": "stderr",
     "output_type": "stream",
     "text": [
      "| Acc : 0.9853: 100%|██████████| 26/26 [00:03<00:00,  7.24it/s]\n"
     ]
    },
    {
     "name": "stdout",
     "output_type": "stream",
     "text": [
      "Early Stopping Counter is 3\n",
      "Early Stopping Counter: 3 out of 3\n",
      "Start Pseudo\n"
     ]
    },
    {
     "name": "stderr",
     "output_type": "stream",
     "text": [
      "100%|██████████| 22/22 [00:02<00:00,  8.62it/s]\n"
     ]
    },
    {
     "name": "stdout",
     "output_type": "stream",
     "text": [
      "1 fold start\n"
     ]
    },
    {
     "name": "stderr",
     "output_type": "stream",
     "text": [
      "| # Epoch : 1 Loss : 0.1111: 100%|██████████| 60/60 [01:02<00:00,  1.03s/it]\n"
     ]
    },
    {
     "name": "stdout",
     "output_type": "stream",
     "text": [
      "Start Validation\n"
     ]
    },
    {
     "name": "stderr",
     "output_type": "stream",
     "text": [
      "| Acc : 0.9979: 100%|██████████| 30/30 [00:04<00:00,  6.91it/s]\n"
     ]
    },
    {
     "name": "stdout",
     "output_type": "stream",
     "text": [
      "model saved 0.9979_swin_base_patch4_window7_224_fold1.pt\n"
     ]
    },
    {
     "name": "stderr",
     "output_type": "stream",
     "text": [
      "| # Epoch : 2 Loss : 0.0061: 100%|██████████| 60/60 [01:01<00:00,  1.03s/it]\n"
     ]
    },
    {
     "name": "stdout",
     "output_type": "stream",
     "text": [
      "Start Validation\n"
     ]
    },
    {
     "name": "stderr",
     "output_type": "stream",
     "text": [
      "| Acc : 0.9875: 100%|██████████| 30/30 [00:04<00:00,  6.79it/s]\n"
     ]
    },
    {
     "name": "stdout",
     "output_type": "stream",
     "text": [
      "Early Stopping Counter is 1\n"
     ]
    },
    {
     "name": "stderr",
     "output_type": "stream",
     "text": [
      "| # Epoch : 3 Loss : 0.0089: 100%|██████████| 60/60 [01:02<00:00,  1.04s/it]\n"
     ]
    },
    {
     "name": "stdout",
     "output_type": "stream",
     "text": [
      "Start Validation\n"
     ]
    },
    {
     "name": "stderr",
     "output_type": "stream",
     "text": [
      "| Acc : 1.0000: 100%|██████████| 30/30 [00:04<00:00,  6.95it/s]\n"
     ]
    },
    {
     "name": "stdout",
     "output_type": "stream",
     "text": [
      "model saved 1.0000_swin_base_patch4_window7_224_fold1.pt\n"
     ]
    },
    {
     "name": "stderr",
     "output_type": "stream",
     "text": [
      "| # Epoch : 4 Loss : 0.0069: 100%|██████████| 60/60 [01:04<00:00,  1.08s/it]\n"
     ]
    },
    {
     "name": "stdout",
     "output_type": "stream",
     "text": [
      "Start Validation\n"
     ]
    },
    {
     "name": "stderr",
     "output_type": "stream",
     "text": [
      "| Acc : 0.9979: 100%|██████████| 30/30 [00:04<00:00,  7.14it/s]\n"
     ]
    },
    {
     "name": "stdout",
     "output_type": "stream",
     "text": [
      "Early Stopping Counter is 1\n"
     ]
    },
    {
     "name": "stderr",
     "output_type": "stream",
     "text": [
      "| # Epoch : 5 Loss : 0.1964: 100%|██████████| 60/60 [01:01<00:00,  1.03s/it]\n"
     ]
    },
    {
     "name": "stdout",
     "output_type": "stream",
     "text": [
      "Start Validation\n"
     ]
    },
    {
     "name": "stderr",
     "output_type": "stream",
     "text": [
      "| Acc : 0.9979: 100%|██████████| 30/30 [00:04<00:00,  7.27it/s]\n"
     ]
    },
    {
     "name": "stdout",
     "output_type": "stream",
     "text": [
      "Early Stopping Counter is 2\n"
     ]
    },
    {
     "name": "stderr",
     "output_type": "stream",
     "text": [
      "| # Epoch : 6 Loss : 0.0444: 100%|██████████| 60/60 [01:04<00:00,  1.07s/it]\n"
     ]
    },
    {
     "name": "stdout",
     "output_type": "stream",
     "text": [
      "Start Validation\n"
     ]
    },
    {
     "name": "stderr",
     "output_type": "stream",
     "text": [
      "| Acc : 0.9979: 100%|██████████| 30/30 [00:03<00:00,  7.50it/s]\n"
     ]
    },
    {
     "name": "stdout",
     "output_type": "stream",
     "text": [
      "Early Stopping Counter is 3\n",
      "Early Stopping Counter: 3 out of 3\n",
      "2 fold start\n"
     ]
    },
    {
     "name": "stderr",
     "output_type": "stream",
     "text": [
      "| # Epoch : 1 Loss : 0.1526: 100%|██████████| 60/60 [01:02<00:00,  1.04s/it]\n"
     ]
    },
    {
     "name": "stdout",
     "output_type": "stream",
     "text": [
      "Start Validation\n"
     ]
    },
    {
     "name": "stderr",
     "output_type": "stream",
     "text": [
      "| Acc : 0.9958: 100%|██████████| 30/30 [00:04<00:00,  7.16it/s]\n"
     ]
    },
    {
     "name": "stdout",
     "output_type": "stream",
     "text": [
      "model saved 0.9958_swin_base_patch4_window7_224_fold2.pt\n"
     ]
    },
    {
     "name": "stderr",
     "output_type": "stream",
     "text": [
      "| # Epoch : 2 Loss : 0.0545: 100%|██████████| 60/60 [01:03<00:00,  1.05s/it]\n"
     ]
    },
    {
     "name": "stdout",
     "output_type": "stream",
     "text": [
      "Start Validation\n"
     ]
    },
    {
     "name": "stderr",
     "output_type": "stream",
     "text": [
      "| Acc : 1.0000: 100%|██████████| 30/30 [00:04<00:00,  6.84it/s]\n"
     ]
    },
    {
     "name": "stdout",
     "output_type": "stream",
     "text": [
      "model saved 1.0000_swin_base_patch4_window7_224_fold2.pt\n"
     ]
    },
    {
     "name": "stderr",
     "output_type": "stream",
     "text": [
      "| # Epoch : 3 Loss : 0.0169: 100%|██████████| 60/60 [00:59<00:00,  1.01it/s]\n"
     ]
    },
    {
     "name": "stdout",
     "output_type": "stream",
     "text": [
      "Start Validation\n"
     ]
    },
    {
     "name": "stderr",
     "output_type": "stream",
     "text": [
      "| Acc : 0.9938: 100%|██████████| 30/30 [00:04<00:00,  7.42it/s]\n"
     ]
    },
    {
     "name": "stdout",
     "output_type": "stream",
     "text": [
      "Early Stopping Counter is 1\n"
     ]
    },
    {
     "name": "stderr",
     "output_type": "stream",
     "text": [
      "| # Epoch : 4 Loss : 0.0372: 100%|██████████| 60/60 [01:02<00:00,  1.05s/it]\n"
     ]
    },
    {
     "name": "stdout",
     "output_type": "stream",
     "text": [
      "Start Validation\n"
     ]
    },
    {
     "name": "stderr",
     "output_type": "stream",
     "text": [
      "| Acc : 1.0000: 100%|██████████| 30/30 [00:04<00:00,  7.29it/s]\n"
     ]
    },
    {
     "name": "stdout",
     "output_type": "stream",
     "text": [
      "Early Stopping Counter is 2\n"
     ]
    },
    {
     "name": "stderr",
     "output_type": "stream",
     "text": [
      "| # Epoch : 5 Loss : 0.2766: 100%|██████████| 60/60 [01:02<00:00,  1.04s/it]\n"
     ]
    },
    {
     "name": "stdout",
     "output_type": "stream",
     "text": [
      "Start Validation\n"
     ]
    },
    {
     "name": "stderr",
     "output_type": "stream",
     "text": [
      "| Acc : 1.0000: 100%|██████████| 30/30 [00:04<00:00,  6.96it/s]\n"
     ]
    },
    {
     "name": "stdout",
     "output_type": "stream",
     "text": [
      "Early Stopping Counter is 3\n",
      "Early Stopping Counter: 3 out of 3\n",
      "3 fold start\n"
     ]
    },
    {
     "name": "stderr",
     "output_type": "stream",
     "text": [
      "| # Epoch : 1 Loss : 0.0837: 100%|██████████| 60/60 [01:03<00:00,  1.06s/it]\n"
     ]
    },
    {
     "name": "stdout",
     "output_type": "stream",
     "text": [
      "Start Validation\n"
     ]
    },
    {
     "name": "stderr",
     "output_type": "stream",
     "text": [
      "| Acc : 1.0000: 100%|██████████| 30/30 [00:04<00:00,  7.30it/s]\n"
     ]
    },
    {
     "name": "stdout",
     "output_type": "stream",
     "text": [
      "model saved 1.0000_swin_base_patch4_window7_224_fold3.pt\n"
     ]
    },
    {
     "name": "stderr",
     "output_type": "stream",
     "text": [
      "| # Epoch : 2 Loss : 0.0873: 100%|██████████| 60/60 [01:03<00:00,  1.06s/it]\n"
     ]
    },
    {
     "name": "stdout",
     "output_type": "stream",
     "text": [
      "Start Validation\n"
     ]
    },
    {
     "name": "stderr",
     "output_type": "stream",
     "text": [
      "| Acc : 1.0000: 100%|██████████| 30/30 [00:04<00:00,  6.74it/s]\n"
     ]
    },
    {
     "name": "stdout",
     "output_type": "stream",
     "text": [
      "Early Stopping Counter is 1\n"
     ]
    },
    {
     "name": "stderr",
     "output_type": "stream",
     "text": [
      "| # Epoch : 3 Loss : 0.0930: 100%|██████████| 60/60 [01:02<00:00,  1.04s/it]\n"
     ]
    },
    {
     "name": "stdout",
     "output_type": "stream",
     "text": [
      "Start Validation\n"
     ]
    },
    {
     "name": "stderr",
     "output_type": "stream",
     "text": [
      "| Acc : 1.0000: 100%|██████████| 30/30 [00:03<00:00,  7.90it/s]\n"
     ]
    },
    {
     "name": "stdout",
     "output_type": "stream",
     "text": [
      "Early Stopping Counter is 2\n"
     ]
    },
    {
     "name": "stderr",
     "output_type": "stream",
     "text": [
      "| # Epoch : 4 Loss : 0.0605: 100%|██████████| 60/60 [01:03<00:00,  1.05s/it]\n"
     ]
    },
    {
     "name": "stdout",
     "output_type": "stream",
     "text": [
      "Start Validation\n"
     ]
    },
    {
     "name": "stderr",
     "output_type": "stream",
     "text": [
      "| Acc : 0.9854: 100%|██████████| 30/30 [00:03<00:00,  7.81it/s]\n"
     ]
    },
    {
     "name": "stdout",
     "output_type": "stream",
     "text": [
      "Early Stopping Counter is 3\n",
      "Early Stopping Counter: 3 out of 3\n",
      "4 fold start\n"
     ]
    },
    {
     "name": "stderr",
     "output_type": "stream",
     "text": [
      "| # Epoch : 1 Loss : 0.0155: 100%|██████████| 60/60 [01:01<00:00,  1.03s/it]\n"
     ]
    },
    {
     "name": "stdout",
     "output_type": "stream",
     "text": [
      "Start Validation\n"
     ]
    },
    {
     "name": "stderr",
     "output_type": "stream",
     "text": [
      "| Acc : 0.9916: 100%|██████████| 30/30 [00:03<00:00,  7.58it/s]\n"
     ]
    },
    {
     "name": "stdout",
     "output_type": "stream",
     "text": [
      "model saved 0.9916_swin_base_patch4_window7_224_fold4.pt\n"
     ]
    },
    {
     "name": "stderr",
     "output_type": "stream",
     "text": [
      "| # Epoch : 2 Loss : 0.2101: 100%|██████████| 60/60 [01:01<00:00,  1.02s/it]\n"
     ]
    },
    {
     "name": "stdout",
     "output_type": "stream",
     "text": [
      "Start Validation\n"
     ]
    },
    {
     "name": "stderr",
     "output_type": "stream",
     "text": [
      "| Acc : 0.9937: 100%|██████████| 30/30 [00:04<00:00,  7.14it/s]\n"
     ]
    },
    {
     "name": "stdout",
     "output_type": "stream",
     "text": [
      "model saved 0.9937_swin_base_patch4_window7_224_fold4.pt\n"
     ]
    },
    {
     "name": "stderr",
     "output_type": "stream",
     "text": [
      "| # Epoch : 3 Loss : 0.0658: 100%|██████████| 60/60 [01:01<00:00,  1.02s/it]\n"
     ]
    },
    {
     "name": "stdout",
     "output_type": "stream",
     "text": [
      "Start Validation\n"
     ]
    },
    {
     "name": "stderr",
     "output_type": "stream",
     "text": [
      "| Acc : 0.9937: 100%|██████████| 30/30 [00:04<00:00,  6.82it/s]\n"
     ]
    },
    {
     "name": "stdout",
     "output_type": "stream",
     "text": [
      "Early Stopping Counter is 1\n"
     ]
    },
    {
     "name": "stderr",
     "output_type": "stream",
     "text": [
      "| # Epoch : 4 Loss : 0.0109: 100%|██████████| 60/60 [01:02<00:00,  1.04s/it]\n"
     ]
    },
    {
     "name": "stdout",
     "output_type": "stream",
     "text": [
      "Start Validation\n"
     ]
    },
    {
     "name": "stderr",
     "output_type": "stream",
     "text": [
      "| Acc : 0.9937: 100%|██████████| 30/30 [00:04<00:00,  7.47it/s]\n"
     ]
    },
    {
     "name": "stdout",
     "output_type": "stream",
     "text": [
      "Early Stopping Counter is 2\n"
     ]
    },
    {
     "name": "stderr",
     "output_type": "stream",
     "text": [
      "| # Epoch : 5 Loss : 0.0132: 100%|██████████| 60/60 [01:04<00:00,  1.07s/it]\n"
     ]
    },
    {
     "name": "stdout",
     "output_type": "stream",
     "text": [
      "Start Validation\n"
     ]
    },
    {
     "name": "stderr",
     "output_type": "stream",
     "text": [
      "| Acc : 0.9916: 100%|██████████| 30/30 [00:04<00:00,  7.08it/s]\n"
     ]
    },
    {
     "name": "stdout",
     "output_type": "stream",
     "text": [
      "Early Stopping Counter is 3\n",
      "Early Stopping Counter: 3 out of 3\n",
      "5 fold start\n"
     ]
    },
    {
     "name": "stderr",
     "output_type": "stream",
     "text": [
      "| # Epoch : 1 Loss : 0.0364: 100%|██████████| 60/60 [01:00<00:00,  1.02s/it]\n"
     ]
    },
    {
     "name": "stdout",
     "output_type": "stream",
     "text": [
      "Start Validation\n"
     ]
    },
    {
     "name": "stderr",
     "output_type": "stream",
     "text": [
      "| Acc : 0.9875: 100%|██████████| 30/30 [00:04<00:00,  7.37it/s]\n"
     ]
    },
    {
     "name": "stdout",
     "output_type": "stream",
     "text": [
      "model saved 0.9875_swin_base_patch4_window7_224_fold5.pt\n"
     ]
    },
    {
     "name": "stderr",
     "output_type": "stream",
     "text": [
      "| # Epoch : 2 Loss : 0.0161: 100%|██████████| 60/60 [01:01<00:00,  1.03s/it]\n"
     ]
    },
    {
     "name": "stdout",
     "output_type": "stream",
     "text": [
      "Start Validation\n"
     ]
    },
    {
     "name": "stderr",
     "output_type": "stream",
     "text": [
      "| Acc : 0.9749: 100%|██████████| 30/30 [00:04<00:00,  6.98it/s]\n"
     ]
    },
    {
     "name": "stdout",
     "output_type": "stream",
     "text": [
      "Early Stopping Counter is 1\n"
     ]
    },
    {
     "name": "stderr",
     "output_type": "stream",
     "text": [
      "| # Epoch : 3 Loss : 0.0241: 100%|██████████| 60/60 [01:01<00:00,  1.02s/it]\n"
     ]
    },
    {
     "name": "stdout",
     "output_type": "stream",
     "text": [
      "Start Validation\n"
     ]
    },
    {
     "name": "stderr",
     "output_type": "stream",
     "text": [
      "| Acc : 0.9875: 100%|██████████| 30/30 [00:04<00:00,  6.89it/s]\n"
     ]
    },
    {
     "name": "stdout",
     "output_type": "stream",
     "text": [
      "Early Stopping Counter is 2\n"
     ]
    },
    {
     "name": "stderr",
     "output_type": "stream",
     "text": [
      "| # Epoch : 4 Loss : 0.0608: 100%|██████████| 60/60 [01:01<00:00,  1.03s/it]\n"
     ]
    },
    {
     "name": "stdout",
     "output_type": "stream",
     "text": [
      "Start Validation\n"
     ]
    },
    {
     "name": "stderr",
     "output_type": "stream",
     "text": [
      "| Acc : 0.9875: 100%|██████████| 30/30 [00:04<00:00,  7.39it/s]\n"
     ]
    },
    {
     "name": "stdout",
     "output_type": "stream",
     "text": [
      "Early Stopping Counter is 3\n",
      "Early Stopping Counter: 3 out of 3\n",
      "Start Pseudo\n"
     ]
    },
    {
     "name": "stderr",
     "output_type": "stream",
     "text": [
      "100%|██████████| 22/22 [00:02<00:00,  8.29it/s]\n"
     ]
    }
   ],
   "source": [
    "run(\n",
    "    epochs=CFG[\"n_epoch\"],\n",
    "    model=model,\n",
    "    train_df=train_df,\n",
    "    test_df=test_df,\n",
    "    optimizer=optimizer,\n",
    "    criterion=criterion,\n",
    "    scheduler=scheduler,\n",
    "    device=device,\n",
    "    Folds=CFG[\"n_Folds\"],\n",
    ")"
   ]
  },
  {
   "cell_type": "code",
   "execution_count": 22,
   "metadata": {},
   "outputs": [],
   "source": [
    "for model in os.walk(CFG[\"saved_dir\"]):\n",
    "    models=model[-1][-5:]\n",
    "for model in models:\n",
    "    torch.load(os.path.join(CFG[\"saved_dir\"],model)).eval()"
   ]
  },
  {
   "cell_type": "code",
   "execution_count": null,
   "metadata": {},
   "outputs": [],
   "source": []
  }
 ],
 "metadata": {
  "interpreter": {
   "hash": "e31c68abf1d5dd3f9e2269f23eadf1b199587e56c0618a30760176a65ebfcab4"
  },
  "kernelspec": {
   "display_name": "Python 3.7.11 64-bit ('lightweight': conda)",
   "language": "python",
   "name": "python3"
  },
  "language_info": {
   "codemirror_mode": {
    "name": "ipython",
    "version": 3
   },
   "file_extension": ".py",
   "mimetype": "text/x-python",
   "name": "python",
   "nbconvert_exporter": "python",
   "pygments_lexer": "ipython3",
   "version": "3.7.11"
  },
  "orig_nbformat": 4
 },
 "nbformat": 4,
 "nbformat_minor": 2
}
