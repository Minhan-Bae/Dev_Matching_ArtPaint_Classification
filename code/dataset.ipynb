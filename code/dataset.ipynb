{
 "cells": [
  {
   "cell_type": "code",
   "execution_count": 1,
   "metadata": {},
   "outputs": [],
   "source": [
    "import os\n",
    "import pandas as pd"
   ]
  },
  {
   "cell_type": "code",
   "execution_count": 2,
   "metadata": {},
   "outputs": [],
   "source": [
    "data_root = '/opt/ml/Workspace/Art_classification/data'\n",
    "\n",
    "train_path = os.path.join(data_root,\"train\")\n",
    "test_path = os.path.join(data_root,\"test\")"
   ]
  },
  {
   "cell_type": "code",
   "execution_count": 3,
   "metadata": {},
   "outputs": [],
   "source": [
    "label = {}\n",
    "\n",
    "label[\"dog\"]=0\n",
    "label[\"elephant\"]=1\n",
    "label[\"giraffe\"]=2\n",
    "label[\"guitar\"]=3\n",
    "label[\"horse\"]=4\n",
    "label[\"house\"]=5\n",
    "label[\"person\"]=6\n",
    "label[\"0\"]=-1 # for test label"
   ]
  },
  {
   "cell_type": "code",
   "execution_count": 4,
   "metadata": {},
   "outputs": [],
   "source": [
    "def data_frame(data_path, data_type):\n",
    "    labels = []\n",
    "    for path in os.walk(data_path):\n",
    "        label_type = path[0].split('/')[-1]\n",
    "        if label_type == \"train\" or label_type == 'test':\n",
    "            continue\n",
    "        path_root = path[0]\n",
    "        images = path[-1]\n",
    "\n",
    "        idx = label[label_type]\n",
    "        for image in images:\n",
    "            img_path = os.path.join(path_root, image)\n",
    "            label_idx = {\"img_path\": img_path, \"label\":idx}\n",
    "            labels.append(label_idx)\n",
    "            \n",
    "    data_frame = pd.DataFrame(labels)\n",
    "    data_frame = data_frame.sort_values([\"label\", \"img_path\"])\n",
    "    data_frame = data_frame.reset_index(drop=True)\n",
    "    data_frame.to_csv(data_type + \"_df.csv\")"
   ]
  },
  {
   "cell_type": "code",
   "execution_count": 5,
   "metadata": {},
   "outputs": [],
   "source": [
    "data_frame(train_path, \"train\")\n",
    "data_frame(test_path, \"test\")"
   ]
  }
 ],
 "metadata": {
  "interpreter": {
   "hash": "e31c68abf1d5dd3f9e2269f23eadf1b199587e56c0618a30760176a65ebfcab4"
  },
  "kernelspec": {
   "display_name": "Python 3.7.11 64-bit ('lightweight': conda)",
   "language": "python",
   "name": "python3"
  },
  "language_info": {
   "codemirror_mode": {
    "name": "ipython",
    "version": 3
   },
   "file_extension": ".py",
   "mimetype": "text/x-python",
   "name": "python",
   "nbconvert_exporter": "python",
   "pygments_lexer": "ipython3",
   "version": "3.7.11"
  },
  "orig_nbformat": 4
 },
 "nbformat": 4,
 "nbformat_minor": 2
}
